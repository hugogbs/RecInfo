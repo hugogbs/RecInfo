{
 "cells": [
  {
   "cell_type": "code",
   "execution_count": 1,
   "metadata": {},
   "outputs": [],
   "source": [
    "import pandas as pd\n",
    "import numpy as np\n",
    "import nltk\n",
    "from textblob import TextBlob"
   ]
  },
  {
   "cell_type": "code",
   "execution_count": null,
   "metadata": {},
   "outputs": [],
   "source": [
    "dados = pd.read_csv('../data/noticias_estadao.csv')"
   ]
  },
  {
   "cell_type": "markdown",
   "metadata": {},
   "source": [
    "### Visão geral dos dados"
   ]
  },
  {
   "cell_type": "code",
   "execution_count": 38,
   "metadata": {
    "scrolled": true
   },
   "outputs": [
    {
     "data": {
      "text/plain": [
       "(7643, 3)"
      ]
     },
     "execution_count": 38,
     "metadata": {},
     "output_type": "execute_result"
    }
   ],
   "source": [
    "dados.head()"
   ]
  },
  {
   "cell_type": "code",
   "execution_count": 39,
   "metadata": {},
   "outputs": [
    {
     "name": "stdout",
     "output_type": "stream",
     "text": [
      "Os dados tem 7643 observações e 3 colunas\n"
     ]
    }
   ],
   "source": [
    "print(\"Os dados tem %d observações e %d colunas\" % dados.shape)"
   ]
  },
  {
   "cell_type": "code",
   "execution_count": null,
   "metadata": {},
   "outputs": [],
   "source": []
  },
  {
   "cell_type": "markdown",
   "metadata": {},
   "source": [
    "### Índices invertidos\n",
    "\n",
    "A função calcula os índices invertidos para a base de dados, considerando as colunas **titulo** e **conteudo** para a construção. Não há diferenciação entre letras maiúsculas e minúsculas nas palavras (são transformadas em minúsculo no algoritmo).\n",
    "\n",
    "A estrutura da dados utilizada é um dicionário onde as chaves são as palavras e o conteúdo são sets contendo os índices de cada notícia onde essa palavra aparece."
   ]
  },
  {
   "cell_type": "code",
   "execution_count": 3,
   "metadata": {},
   "outputs": [],
   "source": [
    "def calcula_indices_invertidos(data):\n",
    "    indices = {}\n",
    "    for index, row in data.iterrows():\n",
    "        palavras_titulo = TextBlob(row[\"titulo\"]).words\n",
    "        palavras_conteudo = TextBlob(row[\"conteudo\"]).words\n",
    "        \n",
    "        for palavra in palavras_titulo:\n",
    "            palavra_low = palavra.lower()\n",
    "            if(palavra_low in indices):\n",
    "                indices[palavra_low].add(row[\"idNoticia\"])\n",
    "            else:\n",
    "                indices[palavra_low] = {row[\"idNoticia\"]}\n",
    "                \n",
    "        for palavra in palavras_conteudo:\n",
    "            palavra_low = palavra.lower()\n",
    "            if(palavra_low in indices):\n",
    "                indices[palavra_low].add(row[\"idNoticia\"])\n",
    "            else:\n",
    "                indices[palavra_low] = {row[\"idNoticia\"]}\n",
    "    return(indices)\n",
    "\n",
    "indices_invertidos = calcula_indices_invertidos(dados)"
   ]
  },
  {
   "cell_type": "markdown",
   "metadata": {},
   "source": [
    "### Algoritmos de Busca\n",
    "\n",
    "#### Busca um termo\n",
    "A busca de apenas um termo é feita através de uma consulta simples no dicionário de índices invertidos.\n",
    "O método retorna um set vazio se a palavra não for encontrada."
   ]
  },
  {
   "cell_type": "code",
   "execution_count": 30,
   "metadata": {},
   "outputs": [],
   "source": [
    "def busca_um_termo(termo):\n",
    "    try:\n",
    "        return(indices_invertidos[termo])\n",
    "    except KeyError:\n",
    "        return(set())"
   ]
  },
  {
   "cell_type": "markdown",
   "metadata": {},
   "source": [
    "#### Busca AND\n",
    "A busca AND de 2 termos é feita usando a operação de intersecção de conjuntos entre duas consultas diretas no dicionário de índices invertidos.\n",
    "\n",
    "O método retorna um set vazio se uma das palavras não for encontrada."
   ]
  },
  {
   "cell_type": "code",
   "execution_count": 6,
   "metadata": {},
   "outputs": [],
   "source": [
    "def busca_and(termo1, termo2):\n",
    "    try:\n",
    "        busca1 = indices_invertidos[termo1]\n",
    "        busca2 = indices_invertidos[termo2]\n",
    "        return(busca1 & busca2)\n",
    "    except KeyError:\n",
    "        return(set())"
   ]
  },
  {
   "cell_type": "markdown",
   "metadata": {},
   "source": [
    "#### Busca OR\n",
    "A busca OR de 2 termos é feita usando a operação de união de conjuntos entre duas consultas diretas no dicionário de índices invertidos."
   ]
  },
  {
   "cell_type": "code",
   "execution_count": 7,
   "metadata": {},
   "outputs": [],
   "source": [
    "def busca_or(termo1, termo2):\n",
    "    try:\n",
    "        busca1 = indices_invertidos[termo1]\n",
    "    except KeyError:\n",
    "        busca1 = set()\n",
    "        \n",
    "    try:\n",
    "        busca2 = indices_invertidos[termo2]\n",
    "    except KeyError:\n",
    "        busca2 = set()\n",
    "        \n",
    "    return(busca1 | busca2)"
   ]
  },
  {
   "cell_type": "markdown",
   "metadata": {},
   "source": [
    "#### Busca booleana\n",
    "O algoritmo generaliza as consultas de busca de um termo, and e or, além disso, trata casos em que a entrada não corresponde à uma entrada válida, como número inválido de argumentos ou uso de um operador inváĺido."
   ]
  },
  {
   "cell_type": "code",
   "execution_count": 8,
   "metadata": {},
   "outputs": [],
   "source": [
    "def busca_booleana(*args):\n",
    "    if (len(args) != 3 and len(args) != 1):\n",
    "        return(\"Número inválido de argumentos\")\n",
    "    if(len(args) == 1):\n",
    "        termo = args[0].lower()\n",
    "        return(busca_um_termo(termo))\n",
    "    elif(args[2] == \"AND\"):\n",
    "        termo1 = args[0].lower()\n",
    "        termo2 = args[1].lower()\n",
    "        return(busca_and(termo1, termo2))\n",
    "    elif(args[2] == \"OR\"):\n",
    "        termo1 = args[0].lower()\n",
    "        termo2 = args[1].lower()\n",
    "        return(busca_or(termo1, termo2))\n",
    "    else:\n",
    "        return(\"Operador inválido, use 'AND' ou 'OR'\")"
   ]
  },
  {
   "cell_type": "markdown",
   "metadata": {},
   "source": [
    "### Questão Bônus - Busca AND de n termos\n",
    "\n",
    "O método abaixo realiza a busca AND de n termosele realiza uma otimização fazer a primeira operação de AND entre o maior e o menor conjunto de id's, deste modo, o maior tamanho possível para a resultado final é o tamanho da menor lista, o que reduz o tempo de cálculo dos AND's seguintes.\n",
    "\n",
    "O método retorna um set vazio se uma das palavras não for encontrada."
   ]
  },
  {
   "cell_type": "code",
   "execution_count": 35,
   "metadata": {},
   "outputs": [
    {
     "data": {
      "text/plain": [
       "set()"
      ]
     },
     "execution_count": 35,
     "metadata": {},
     "output_type": "execute_result"
    }
   ],
   "source": [
    "def busca_and_n_termos(*args):\n",
    "    result = []\n",
    "    for i in range(len(args)):\n",
    "        try:\n",
    "            result.append(busca_um_termo(args[i]))\n",
    "        except KeyError:\n",
    "            return(set())\n",
    "        \n",
    "    result.sort(key = lambda item: len(item))\n",
    "    busca = result[0] & result[-1]\n",
    "    \n",
    "    for i in range(len(result)-1, 1, -1):\n",
    "        busca = busca & result[i]\n",
    "        \n",
    "    return(busca)\n",
    "    \n",
    "busca_and_n_termos(\"presidenciáveis\", \"aeae\")"
   ]
  },
  {
   "cell_type": "markdown",
   "metadata": {},
   "source": [
    "### Consultas"
   ]
  },
  {
   "cell_type": "code",
   "execution_count": 73,
   "metadata": {},
   "outputs": [
    {
     "data": {
      "text/plain": [
       "{1068, 1370, 1770, 1952, 1987, 2763, 2777, 2779, 4802, 5382, 5870, 6694}"
      ]
     },
     "execution_count": 73,
     "metadata": {},
     "output_type": "execute_result"
    }
   ],
   "source": [
    "busca_booleana(\"Campina\", \"Grande\", \"AND\")"
   ]
  },
  {
   "cell_type": "code",
   "execution_count": null,
   "metadata": {},
   "outputs": [],
   "source": [
    "busca_booleana(\"candidatos\")"
   ]
  },
  {
   "cell_type": "code",
   "execution_count": null,
   "metadata": {},
   "outputs": [],
   "source": [
    "busca_booleana(\"debate\", \"presidencial\", \"AND\")"
   ]
  },
  {
   "cell_type": "code",
   "execution_count": null,
   "metadata": {},
   "outputs": [],
   "source": [
    "busca_booleana(\"debate\", \"presidencial\", \"OR\")"
   ]
  },
  {
   "cell_type": "code",
   "execution_count": 34,
   "metadata": {},
   "outputs": [
    {
     "data": {
      "text/plain": [
       "set()"
      ]
     },
     "execution_count": 34,
     "metadata": {},
     "output_type": "execute_result"
    }
   ],
   "source": [
    "busca_booleana(\"presidenciáveis\", \"corruptos\", \"AND\")"
   ]
  },
  {
   "cell_type": "code",
   "execution_count": 33,
   "metadata": {},
   "outputs": [
    {
     "data": {
      "text/plain": [
       "{68,\n",
       " 93,\n",
       " 126,\n",
       " 149,\n",
       " 160,\n",
       " 176,\n",
       " 180,\n",
       " 272,\n",
       " 304,\n",
       " 330,\n",
       " 375,\n",
       " 422,\n",
       " 426,\n",
       " 430,\n",
       " 456,\n",
       " 497,\n",
       " 523,\n",
       " 538,\n",
       " 539,\n",
       " 777,\n",
       " 789,\n",
       " 841,\n",
       " 874,\n",
       " 893,\n",
       " 1109,\n",
       " 1129,\n",
       " 1158,\n",
       " 1198,\n",
       " 1325,\n",
       " 1326,\n",
       " 1343,\n",
       " 1428,\n",
       " 1461,\n",
       " 1470,\n",
       " 1481,\n",
       " 1487,\n",
       " 1537,\n",
       " 1639,\n",
       " 1693,\n",
       " 1847,\n",
       " 1851,\n",
       " 1859,\n",
       " 2023,\n",
       " 2024,\n",
       " 2026,\n",
       " 2028,\n",
       " 2030,\n",
       " 2051,\n",
       " 2068,\n",
       " 2069,\n",
       " 2080,\n",
       " 2088,\n",
       " 2093,\n",
       " 2123,\n",
       " 2125,\n",
       " 2144,\n",
       " 2149,\n",
       " 2152,\n",
       " 2225,\n",
       " 2248,\n",
       " 2253,\n",
       " 2285,\n",
       " 2442,\n",
       " 2458,\n",
       " 2471,\n",
       " 2507,\n",
       " 2516,\n",
       " 2571,\n",
       " 2574,\n",
       " 2609,\n",
       " 2628,\n",
       " 2660,\n",
       " 2669,\n",
       " 2672,\n",
       " 2676,\n",
       " 2678,\n",
       " 2686,\n",
       " 2732,\n",
       " 2740,\n",
       " 2764,\n",
       " 2813,\n",
       " 2860,\n",
       " 3042,\n",
       " 3046,\n",
       " 3182,\n",
       " 3188,\n",
       " 3217,\n",
       " 3243,\n",
       " 3248,\n",
       " 3260,\n",
       " 3377,\n",
       " 3391,\n",
       " 3397,\n",
       " 3444,\n",
       " 3446,\n",
       " 3447,\n",
       " 3466,\n",
       " 3479,\n",
       " 3489,\n",
       " 3546,\n",
       " 3607,\n",
       " 3616,\n",
       " 3633,\n",
       " 3641,\n",
       " 3664,\n",
       " 3666,\n",
       " 3684,\n",
       " 3730,\n",
       " 3747,\n",
       " 3767,\n",
       " 3786,\n",
       " 3843,\n",
       " 3860,\n",
       " 3962,\n",
       " 4025,\n",
       " 4034,\n",
       " 4042,\n",
       " 4137,\n",
       " 4170,\n",
       " 4177,\n",
       " 4184,\n",
       " 4199,\n",
       " 4219,\n",
       " 4235,\n",
       " 4258,\n",
       " 4260,\n",
       " 4294,\n",
       " 4488,\n",
       " 4492,\n",
       " 4660,\n",
       " 4677,\n",
       " 4743,\n",
       " 4847,\n",
       " 4926,\n",
       " 4965,\n",
       " 5110,\n",
       " 5115,\n",
       " 5121,\n",
       " 5133,\n",
       " 5237,\n",
       " 5271,\n",
       " 5472,\n",
       " 5587,\n",
       " 5659,\n",
       " 5713,\n",
       " 5895,\n",
       " 5906,\n",
       " 6043,\n",
       " 6079,\n",
       " 6112,\n",
       " 6115,\n",
       " 6131,\n",
       " 6783,\n",
       " 6785,\n",
       " 6809,\n",
       " 6813,\n",
       " 6910,\n",
       " 6931,\n",
       " 7369,\n",
       " 7441,\n",
       " 7630,\n",
       " 7635,\n",
       " 7641,\n",
       " 7642}"
      ]
     },
     "execution_count": 33,
     "metadata": {},
     "output_type": "execute_result"
    }
   ],
   "source": [
    "busca_booleana(\"presidenciáveis\", \"corruptos\", \"OR\")"
   ]
  },
  {
   "cell_type": "code",
   "execution_count": null,
   "metadata": {},
   "outputs": [],
   "source": [
    "busca_booleana(\"Belo\", \"Horizonte\", \"AND\")"
   ]
  },
  {
   "cell_type": "code",
   "execution_count": null,
   "metadata": {},
   "outputs": [],
   "source": [
    "busca_booleana(\"Belo\", \"Horizonte\", \"OR\")"
   ]
  },
  {
   "cell_type": "markdown",
   "metadata": {},
   "source": [
    "### Asserts"
   ]
  },
  {
   "cell_type": "code",
   "execution_count": 14,
   "metadata": {},
   "outputs": [],
   "source": [
    "assert len(busca_booleana(\"debate\", \"presidencial\", \"OR\")) , \"\"== 1770\n",
    "assert len(busca_booleana(\"debate\", \"presidencial\", \"AND\")) == 201\n",
    "assert len(busca_booleana(\"presidenciáveis\", \"corruptos\",\"OR\")) == 164\n",
    "assert len(busca_booleana(\"presidenciáveis\", \"corruptos\", \"AND\"))== 0\n",
    "assert len(busca_booleana(\"Belo\", \"Horizonte\", \"OR\")) == 331\n",
    "assert len(busca_booleana(\"Belo\", \"Horizonte\", \"AND\")) == 242\n"
   ]
  }
 ],
 "metadata": {
  "kernelspec": {
   "display_name": "Python 3",
   "language": "python",
   "name": "python3"
  },
  "language_info": {
   "codemirror_mode": {
    "name": "ipython",
    "version": 3
   },
   "file_extension": ".py",
   "mimetype": "text/x-python",
   "name": "python",
   "nbconvert_exporter": "python",
   "pygments_lexer": "ipython3",
   "version": "3.5.2"
  }
 },
 "nbformat": 4,
 "nbformat_minor": 2
}
