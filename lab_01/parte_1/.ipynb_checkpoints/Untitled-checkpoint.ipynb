{
 "cells": [
  {
   "cell_type": "code",
   "execution_count": 65,
   "metadata": {},
   "outputs": [],
   "source": [
    "import pandas as pd\n",
    "import numpy as np\n",
    "import nltk\n",
    "from textblob import TextBlob"
   ]
  },
  {
   "cell_type": "code",
   "execution_count": 2,
   "metadata": {
    "scrolled": true
   },
   "outputs": [],
   "source": [
    "dados = pd.read_csv('../data/noticias_estadao.csv')\n",
    "dados = pd.DataFrame(dados)"
   ]
  },
  {
   "cell_type": "code",
   "execution_count": 73,
   "metadata": {},
   "outputs": [],
   "source": [
    "def calcula_indices_invertidos(data):\n",
    "    indices = {}\n",
    "    for index, row in data.iterrows():\n",
    "        palavras_titulo = TextBlob(row[\"titulo\"]).words\n",
    "        palavras_conteudo = TextBlob(row[\"conteudo\"]).words\n",
    "        \n",
    "        for palavra in palavras_titulo:\n",
    "            palavra_low = palavra.lower()\n",
    "            if(palavra_low in indices):\n",
    "                indices[palavra_low].add(row[\"idNoticia\"])\n",
    "            else:\n",
    "                indices[palavra_low] = {row[\"idNoticia\"]}\n",
    "                \n",
    "        for palavra in palavras_conteudo:\n",
    "            palavra_low = palavra.lower()\n",
    "            if(palavra_low in indices):\n",
    "                indices[palavra_low].add(row[\"idNoticia\"])\n",
    "            else:\n",
    "                indices[palavra_low] = {row[\"idNoticia\"]}\n",
    "    \n",
    "    return(indices)\n",
    "\n",
    "indices_invertidos = calcula_indices_invertidos(dados)"
   ]
  },
  {
   "cell_type": "code",
   "execution_count": 81,
   "metadata": {},
   "outputs": [
    {
     "ename": "KeyError",
     "evalue": "'efrvff'",
     "output_type": "error",
     "traceback": [
      "\u001b[0;31m---------------------------------------------------------------------------\u001b[0m",
      "\u001b[0;31mKeyError\u001b[0m                                  Traceback (most recent call last)",
      "\u001b[0;32m<ipython-input-81-a164bfdf2056>\u001b[0m in \u001b[0;36m<module>\u001b[0;34m()\u001b[0m\n\u001b[1;32m      2\u001b[0m     \u001b[0;32mreturn\u001b[0m\u001b[0;34m(\u001b[0m\u001b[0mindices_invertidos\u001b[0m\u001b[0;34m[\u001b[0m\u001b[0mtermo\u001b[0m\u001b[0;34m]\u001b[0m\u001b[0;34m)\u001b[0m\u001b[0;34m\u001b[0m\u001b[0m\n\u001b[1;32m      3\u001b[0m \u001b[0;34m\u001b[0m\u001b[0m\n\u001b[0;32m----> 4\u001b[0;31m \u001b[0mum_termo\u001b[0m\u001b[0;34m(\u001b[0m\u001b[0;34m\"efrvff\"\u001b[0m\u001b[0;34m)\u001b[0m\u001b[0;34m\u001b[0m\u001b[0m\n\u001b[0m",
      "\u001b[0;32m<ipython-input-81-a164bfdf2056>\u001b[0m in \u001b[0;36mum_termo\u001b[0;34m(termo)\u001b[0m\n\u001b[1;32m      1\u001b[0m \u001b[0;32mdef\u001b[0m \u001b[0mum_termo\u001b[0m\u001b[0;34m(\u001b[0m\u001b[0mtermo\u001b[0m\u001b[0;34m)\u001b[0m\u001b[0;34m:\u001b[0m\u001b[0;34m\u001b[0m\u001b[0m\n\u001b[0;32m----> 2\u001b[0;31m     \u001b[0;32mreturn\u001b[0m\u001b[0;34m(\u001b[0m\u001b[0mindices_invertidos\u001b[0m\u001b[0;34m[\u001b[0m\u001b[0mtermo\u001b[0m\u001b[0;34m]\u001b[0m\u001b[0;34m)\u001b[0m\u001b[0;34m\u001b[0m\u001b[0m\n\u001b[0m\u001b[1;32m      3\u001b[0m \u001b[0;34m\u001b[0m\u001b[0m\n\u001b[1;32m      4\u001b[0m \u001b[0mum_termo\u001b[0m\u001b[0;34m(\u001b[0m\u001b[0;34m\"efrvff\"\u001b[0m\u001b[0;34m)\u001b[0m\u001b[0;34m\u001b[0m\u001b[0m\n",
      "\u001b[0;31mKeyError\u001b[0m: 'efrvff'"
     ]
    }
   ],
   "source": [
    "def um_termo(termo):\n",
    "    return(indices_invertidos[termo])"
   ]
  },
  {
   "cell_type": "code",
   "execution_count": 74,
   "metadata": {},
   "outputs": [
    {
     "data": {
      "text/plain": [
       "{1036, 1068, 1370, 1770, 1952, 1987, 2763, 2777, 2779, 4802, 5382, 5870, 6694}"
      ]
     },
     "execution_count": 74,
     "metadata": {},
     "output_type": "execute_result"
    }
   ],
   "source": [
    "indices_invertidos[\"campina\"]"
   ]
  },
  {
   "cell_type": "code",
   "execution_count": null,
   "metadata": {},
   "outputs": [],
   "source": []
  },
  {
   "cell_type": "code",
   "execution_count": 76,
   "metadata": {},
   "outputs": [
    {
     "name": "stdout",
     "output_type": "stream",
     "text": [
      "{1952, 4802, 1987, 5382, 6694, 1770, 2763, 1068, 5870, 2777, 1370, 2779}\n"
     ]
    }
   ],
   "source": [
    "def busca_and(termo1, termo2):\n",
    "    busca1 = indices_invertidos[termo1]\n",
    "    busca2 = indices_invertidos[termo2]\n",
    "    \n",
    "    return(busca1 & busca2)\n",
    "\n",
    "print(busca_and(\"campina\", \"grande\"))"
   ]
  },
  {
   "cell_type": "code",
   "execution_count": 67,
   "metadata": {},
   "outputs": [],
   "source": [
    "def busca_or(termo1, termo2):\n",
    "    busca1 = indices_invertidos[termo1]\n",
    "    busca2 = indices_invertidos[termo2]\n",
    "    \n",
    "    return(busca1 | busca2)"
   ]
  },
  {
   "cell_type": "code",
   "execution_count": 6,
   "metadata": {},
   "outputs": [],
   "source": [
    "def busca_booleana(termo1, termo2, operador):\n",
    "    if(operador == \"AND\"):\n",
    "        return busca_and(termo1, termo2);\n",
    "    elif(operador == \"OR\"):\n",
    "        return busca_or(termo1, termo2);\n",
    "    return \"ERRO\"\n",
    "\n",
    "def busca_booleana(termo):\n",
    "    return um_termo;"
   ]
  }
 ],
 "metadata": {
  "kernelspec": {
   "display_name": "Python 3",
   "language": "python",
   "name": "python3"
  },
  "language_info": {
   "codemirror_mode": {
    "name": "ipython",
    "version": 3
   },
   "file_extension": ".py",
   "mimetype": "text/x-python",
   "name": "python",
   "nbconvert_exporter": "python",
   "pygments_lexer": "ipython3",
   "version": "3.5.2"
  }
 },
 "nbformat": 4,
 "nbformat_minor": 2
}
