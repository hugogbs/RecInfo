{
 "cells": [
  {
   "cell_type": "code",
   "execution_count": 4,
   "metadata": {},
   "outputs": [],
   "source": [
    "import pandas as pd\n",
    "import numpy as np\n",
    "import nltk\n",
    "from textblob import TextBlob\n",
    "import timeit"
   ]
  },
  {
   "cell_type": "code",
   "execution_count": 2,
   "metadata": {
    "scrolled": true
   },
   "outputs": [],
   "source": [
    "dados = pd.read_csv('../data/noticias_estadao.csv')\n",
    "dados = pd.DataFrame(dados)"
   ]
  },
  {
   "cell_type": "code",
   "execution_count": 10,
   "metadata": {},
   "outputs": [
    {
     "name": "stdout",
     "output_type": "stream",
     "text": [
      "-0.008525276998625486\n"
     ]
    }
   ],
   "source": [
    "def calcula_indices_invertidos(data):\n",
    "    indices = {}\n",
    "    for index, row in data.iterrows():\n",
    "        palavras_titulo = TextBlob(row[\"titulo\"]).words\n",
    "        palavras_conteudo = TextBlob(row[\"conteudo\"]).words\n",
    "        \n",
    "        for palavra in palavras_titulo:\n",
    "            palavra_low = palavra.lower()\n",
    "            if(palavra_low in indices):\n",
    "                indices[palavra_low].add(row[\"idNoticia\"])\n",
    "            else:\n",
    "                indices[palavra_low] = {row[\"idNoticia\"]}\n",
    "                \n",
    "        for palavra in palavras_conteudo:\n",
    "            palavra_low = palavra.lower()\n",
    "            if(palavra_low in indices):\n",
    "                indices[palavra_low].add(row[\"idNoticia\"])\n",
    "            else:\n",
    "                indices[palavra_low] = {row[\"idNoticia\"]}\n",
    "    return(indices)\n",
    "\n",
    "indices_invertidos = calcula_indices_invertidos(dados)"
   ]
  },
  {
   "cell_type": "code",
   "execution_count": 72,
   "metadata": {},
   "outputs": [],
   "source": [
    "def busca_um_termo(termo):\n",
    "    try:\n",
    "        return(indices_invertidos[termo])\n",
    "    except KeyError:\n",
    "        return({})"
   ]
  },
  {
   "cell_type": "code",
   "execution_count": 71,
   "metadata": {},
   "outputs": [],
   "source": [
    "def busca_and(termo1, termo2):\n",
    "    try:\n",
    "        busca1 = indices_invertidos[termo1]\n",
    "        busca2 = indices_invertidos[termo2]\n",
    "        return(busca1 & busca2)\n",
    "    except KeyError:\n",
    "        return({})"
   ]
  },
  {
   "cell_type": "code",
   "execution_count": 70,
   "metadata": {},
   "outputs": [],
   "source": [
    "def busca_or(termo1, termo2):\n",
    "    try:\n",
    "        busca1 = indices_invertidos[termo1]\n",
    "        busca2 = indices_invertidos[termo2]\n",
    "    \n",
    "        return(busca1 | busca2)\n",
    "    except KeyError:\n",
    "        return({})"
   ]
  },
  {
   "cell_type": "code",
   "execution_count": 48,
   "metadata": {},
   "outputs": [],
   "source": [
    "def busca_booleana(*args):\n",
    "    if (len(args) != 3 and len(args) != 1):\n",
    "        return(\"Número inválido de argumentos\")\n",
    "    if(len(args) == 1):\n",
    "        termo = args[0].lower()\n",
    "        return(busca_um_termo(termo))\n",
    "    elif(args[2] == \"AND\"):\n",
    "        termo1 = args[0].lower()\n",
    "        termo2 = args[1].lower()\n",
    "        return(busca_and(termo1, termo2))\n",
    "    elif(args[2] == \"OR\"):\n",
    "        termo1 = args[0].lower()\n",
    "        termo2 = args[1].lower()\n",
    "        return(busca_or(termo1, termo2))\n",
    "    else:\n",
    "        return(\"Operador inválido, use 'AND' ou 'OR'\")"
   ]
  },
  {
   "cell_type": "code",
   "execution_count": 73,
   "metadata": {},
   "outputs": [
    {
     "data": {
      "text/plain": [
       "{1068, 1370, 1770, 1952, 1987, 2763, 2777, 2779, 4802, 5382, 5870, 6694}"
      ]
     },
     "execution_count": 73,
     "metadata": {},
     "output_type": "execute_result"
    }
   ],
   "source": [
    "busca_booleana(\"Campina\", \"Grande\", \"AND\")"
   ]
  },
  {
   "cell_type": "code",
   "execution_count": null,
   "metadata": {},
   "outputs": [],
   "source": [
    "busca_booleana(\"candidatos\")"
   ]
  },
  {
   "cell_type": "code",
   "execution_count": null,
   "metadata": {},
   "outputs": [],
   "source": [
    "busca_booleana(\"debate\", \"presidencial\", \"AND\")"
   ]
  },
  {
   "cell_type": "code",
   "execution_count": null,
   "metadata": {},
   "outputs": [],
   "source": [
    "busca_booleana(\"debate\", \"presidencial\", \"OR\")"
   ]
  },
  {
   "cell_type": "code",
   "execution_count": null,
   "metadata": {},
   "outputs": [],
   "source": [
    "busca_booleana(\"presidenciáveis\", \"corruptos\", \"AND\")"
   ]
  },
  {
   "cell_type": "code",
   "execution_count": null,
   "metadata": {},
   "outputs": [],
   "source": [
    "busca_booleana(\"presidenciáveis\", \"corruptos\", \"OR\")"
   ]
  },
  {
   "cell_type": "code",
   "execution_count": null,
   "metadata": {},
   "outputs": [],
   "source": [
    "busca_booleana(\"Belo\", \"Horizonte\", \"AND\")"
   ]
  },
  {
   "cell_type": "code",
   "execution_count": null,
   "metadata": {},
   "outputs": [],
   "source": [
    "busca_booleana(\"Belo\", \"Horizonte\", \"OR\")"
   ]
  }
 ],
 "metadata": {
  "kernelspec": {
   "display_name": "Python 3",
   "language": "python",
   "name": "python3"
  },
  "language_info": {
   "codemirror_mode": {
    "name": "ipython",
    "version": 3
   },
   "file_extension": ".py",
   "mimetype": "text/x-python",
   "name": "python",
   "nbconvert_exporter": "python",
   "pygments_lexer": "ipython3",
   "version": "3.5.2"
  }
 },
 "nbformat": 4,
 "nbformat_minor": 2
}
