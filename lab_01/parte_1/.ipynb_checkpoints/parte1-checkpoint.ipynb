{
 "cells": [
  {
   "cell_type": "code",
   "execution_count": 2,
   "metadata": {},
   "outputs": [],
   "source": [
    "import pandas as pd\n",
    "import numpy as np\n",
    "import nltk\n",
    "from textblob import TextBlob"
   ]
  },
  {
   "cell_type": "code",
   "execution_count": 3,
   "metadata": {},
   "outputs": [],
   "source": [
    "dados = pd.read_csv('../data/noticias_estadao.csv')"
   ]
  },
  {
   "cell_type": "markdown",
   "metadata": {},
   "source": [
    "### Visão geral dos dados"
   ]
  },
  {
   "cell_type": "code",
   "execution_count": 4,
   "metadata": {},
   "outputs": [
    {
     "data": {
      "text/html": [
       "<div>\n",
       "<style scoped>\n",
       "    .dataframe tbody tr th:only-of-type {\n",
       "        vertical-align: middle;\n",
       "    }\n",
       "\n",
       "    .dataframe tbody tr th {\n",
       "        vertical-align: top;\n",
       "    }\n",
       "\n",
       "    .dataframe thead th {\n",
       "        text-align: right;\n",
       "    }\n",
       "</style>\n",
       "<table border=\"1\" class=\"dataframe\">\n",
       "  <thead>\n",
       "    <tr style=\"text-align: right;\">\n",
       "      <th></th>\n",
       "      <th>titulo</th>\n",
       "      <th>conteudo</th>\n",
       "      <th>idNoticia</th>\n",
       "    </tr>\n",
       "  </thead>\n",
       "  <tbody>\n",
       "    <tr>\n",
       "      <th>0</th>\n",
       "      <td>PT espera 30 mil pessoas em festa na Esplanada</td>\n",
       "      <td>BRASÍLIA - Após o desgaste provocado com o lan...</td>\n",
       "      <td>1</td>\n",
       "    </tr>\n",
       "    <tr>\n",
       "      <th>1</th>\n",
       "      <td>Alckmin toma posse de olho no Planalto</td>\n",
       "      <td>Reeleito em outubro, o governador tucano Geral...</td>\n",
       "      <td>2</td>\n",
       "    </tr>\n",
       "    <tr>\n",
       "      <th>2</th>\n",
       "      <td>Seis obstáculos e desafios do segundo mandato ...</td>\n",
       "      <td>1. Rearranjo das contas A nova equipe econôm...</td>\n",
       "      <td>3</td>\n",
       "    </tr>\n",
       "    <tr>\n",
       "      <th>3</th>\n",
       "      <td>Veja os desafios dos governadores que assumem ...</td>\n",
       "      <td>No Acre, governador reeleito quer erradicar an...</td>\n",
       "      <td>4</td>\n",
       "    </tr>\n",
       "    <tr>\n",
       "      <th>4</th>\n",
       "      <td>PT impulsiona cerimônia de posse da Dilma nas ...</td>\n",
       "      <td>Os perfis da presidente Dilma Rousseff, nas re...</td>\n",
       "      <td>5</td>\n",
       "    </tr>\n",
       "  </tbody>\n",
       "</table>\n",
       "</div>"
      ],
      "text/plain": [
       "                                              titulo  \\\n",
       "0     PT espera 30 mil pessoas em festa na Esplanada   \n",
       "1             Alckmin toma posse de olho no Planalto   \n",
       "2  Seis obstáculos e desafios do segundo mandato ...   \n",
       "3  Veja os desafios dos governadores que assumem ...   \n",
       "4  PT impulsiona cerimônia de posse da Dilma nas ...   \n",
       "\n",
       "                                            conteudo  idNoticia  \n",
       "0  BRASÍLIA - Após o desgaste provocado com o lan...          1  \n",
       "1  Reeleito em outubro, o governador tucano Geral...          2  \n",
       "2    1. Rearranjo das contas A nova equipe econôm...          3  \n",
       "3  No Acre, governador reeleito quer erradicar an...          4  \n",
       "4  Os perfis da presidente Dilma Rousseff, nas re...          5  "
      ]
     },
     "execution_count": 4,
     "metadata": {},
     "output_type": "execute_result"
    }
   ],
   "source": [
    "dados.head()"
   ]
  },
  {
   "cell_type": "code",
   "execution_count": 5,
   "metadata": {},
   "outputs": [
    {
     "name": "stdout",
     "output_type": "stream",
     "text": [
      "Os dados tem 7643 observações e 3 colunas\n"
     ]
    }
   ],
   "source": [
    "print(\"Os dados tem %d observações e %d colunas\" % dados.shape)"
   ]
  },
  {
   "cell_type": "markdown",
   "metadata": {},
   "source": [
    "### Índices invertidos\n",
    "\n",
    "A função calcula os índices invertidos para a base de dados, considerando as colunas **titulo** e **conteudo** para a construção. Não há diferenciação entre letras maiúsculas e minúsculas nas palavras (são transformadas em minúsculo no algoritmo).\n",
    "\n",
    "A estrutura da dados utilizada é um dicionário onde as chaves são as palavras e o conteúdo são sets contendo os índices de cada notícia onde essa palavra aparece."
   ]
  },
  {
   "cell_type": "code",
   "execution_count": 6,
   "metadata": {},
   "outputs": [],
   "source": [
    "def calcula_indices_invertidos(data):\n",
    "    indices = {}\n",
    "    for index, row in data.iterrows():\n",
    "        palavras_titulo = TextBlob(row[\"titulo\"]).words\n",
    "        palavras_conteudo = TextBlob(row[\"conteudo\"]).words\n",
    "        \n",
    "        for palavra in palavras_titulo:\n",
    "            palavra_low = palavra.lower()\n",
    "            if(palavra_low in indices):\n",
    "                indices[palavra_low].add(row[\"idNoticia\"])\n",
    "            else:\n",
    "                indices[palavra_low] = {row[\"idNoticia\"]}\n",
    "                \n",
    "        for palavra in palavras_conteudo:\n",
    "            palavra_low = palavra.lower()\n",
    "            if(palavra_low in indices):\n",
    "                indices[palavra_low].add(row[\"idNoticia\"])\n",
    "            else:\n",
    "                indices[palavra_low] = {row[\"idNoticia\"]}\n",
    "    return(indices)\n",
    "\n",
    "indices_invertidos = calcula_indices_invertidos(dados)"
   ]
  },
  {
   "cell_type": "markdown",
   "metadata": {},
   "source": [
    "### Algoritmos de Busca\n",
    "\n",
    "#### Busca um termo\n",
    "A busca de apenas um termo é feita através de uma consulta simples no dicionário de índices invertidos.\n",
    "O método retorna um set vazio se a palavra não for encontrada."
   ]
  },
  {
   "cell_type": "code",
   "execution_count": 7,
   "metadata": {},
   "outputs": [],
   "source": [
    "def busca_um_termo(termo):\n",
    "    try:\n",
    "        return(indices_invertidos[termo])\n",
    "    except KeyError:\n",
    "        return(set())"
   ]
  },
  {
   "cell_type": "markdown",
   "metadata": {},
   "source": [
    "#### Busca AND\n",
    "A busca AND de 2 termos é feita usando a operação de intersecção de conjuntos entre duas consultas diretas no dicionário de índices invertidos.\n",
    "\n",
    "O método retorna um set vazio se uma das palavras não for encontrada."
   ]
  },
  {
   "cell_type": "code",
   "execution_count": 8,
   "metadata": {},
   "outputs": [],
   "source": [
    "def busca_and(termo1, termo2):\n",
    "    try:\n",
    "        busca1 = indices_invertidos[termo1]\n",
    "        busca2 = indices_invertidos[termo2]\n",
    "        return(busca1 & busca2)\n",
    "    except KeyError:\n",
    "        return(set())"
   ]
  },
  {
   "cell_type": "markdown",
   "metadata": {},
   "source": [
    "#### Busca OR\n",
    "A busca OR de 2 termos é feita usando a operação de união de conjuntos entre duas consultas diretas no dicionário de índices invertidos."
   ]
  },
  {
   "cell_type": "code",
   "execution_count": 9,
   "metadata": {},
   "outputs": [],
   "source": [
    "def busca_or(termo1, termo2):\n",
    "    try:\n",
    "        busca1 = indices_invertidos[termo1]\n",
    "    except KeyError:\n",
    "        busca1 = set()\n",
    "        \n",
    "    try:\n",
    "        busca2 = indices_invertidos[termo2]\n",
    "    except KeyError:\n",
    "        busca2 = set()\n",
    "        \n",
    "    return(busca1 | busca2)"
   ]
  },
  {
   "cell_type": "markdown",
   "metadata": {},
   "source": [
    "#### Busca booleana\n",
    "O algoritmo generaliza as consultas de busca de um termo, and e or, além disso, trata casos em que a entrada não corresponde à uma entrada válida, como número inválido de argumentos ou uso de um operador inváĺido."
   ]
  },
  {
   "cell_type": "code",
   "execution_count": 10,
   "metadata": {},
   "outputs": [],
   "source": [
    "def busca_booleana(*args):\n",
    "    if (len(args) != 3 and len(args) != 1):\n",
    "        return(\"Número inválido de argumentos\")\n",
    "    if(len(args) == 1):\n",
    "        termo = args[0].lower()\n",
    "        return(busca_um_termo(termo))\n",
    "    elif(args[2] == \"AND\"):\n",
    "        termo1 = args[0].lower()\n",
    "        termo2 = args[1].lower()\n",
    "        return(busca_and(termo1, termo2))\n",
    "    elif(args[2] == \"OR\"):\n",
    "        termo1 = args[0].lower()\n",
    "        termo2 = args[1].lower()\n",
    "        return(busca_or(termo1, termo2))\n",
    "    else:\n",
    "        return(\"Operador inválido, use 'AND' ou 'OR'\")"
   ]
  },
  {
   "cell_type": "markdown",
   "metadata": {},
   "source": [
    "### Questão Bônus - Busca AND de n termos\n",
    "\n",
    "O método abaixo realiza a busca AND de n termosele realiza uma otimização fazer a primeira operação de AND entre o maior e o menor conjunto de id's, deste modo, o maior tamanho possível para a resultado final é o tamanho da menor lista, o que reduz o tempo de cálculo dos AND's seguintes.\n",
    "\n",
    "O método retorna um set vazio se uma das palavras não for encontrada."
   ]
  },
  {
   "cell_type": "code",
   "execution_count": null,
   "metadata": {},
   "outputs": [],
   "source": [
    "def busca_and_n_termos(*args):\n",
    "    result = []\n",
    "    for i in range(len(args)):\n",
    "        try:\n",
    "            result.append(busca_um_termo(args[i]))\n",
    "        except KeyError:\n",
    "            return(set())\n",
    "        \n",
    "    result.sort(key = lambda item: len(item))\n",
    "    busca = result[0] & result[-1]\n",
    "    \n",
    "    for i in range(len(result)-1, 1, -1):\n",
    "        busca = busca & result[i]\n",
    "        \n",
    "    return(busca)"
   ]
  },
  {
   "cell_type": "markdown",
   "metadata": {},
   "source": [
    "### Consultas"
   ]
  },
  {
   "cell_type": "code",
   "execution_count": null,
   "metadata": {},
   "outputs": [],
   "source": [
    "busca_booleana(\"Campina\", \"Grande\", \"AND\")"
   ]
  },
  {
   "cell_type": "code",
   "execution_count": null,
   "metadata": {},
   "outputs": [],
   "source": [
    "busca_booleana(\"candidatos\")"
   ]
  },
  {
   "cell_type": "code",
   "execution_count": null,
   "metadata": {
    "scrolled": false
   },
   "outputs": [],
   "source": [
    "busca_booleana(\"debate\", \"presidencial\", \"AND\")"
   ]
  },
  {
   "cell_type": "code",
   "execution_count": null,
   "metadata": {},
   "outputs": [],
   "source": [
    "busca_booleana(\"debate\", \"presidencial\", \"OR\")"
   ]
  },
  {
   "cell_type": "code",
   "execution_count": null,
   "metadata": {},
   "outputs": [],
   "source": [
    "busca_booleana(\"presidenciáveis\", \"corruptos\", \"AND\")"
   ]
  },
  {
   "cell_type": "code",
   "execution_count": null,
   "metadata": {},
   "outputs": [],
   "source": [
    "busca_booleana(\"presidenciáveis\", \"corruptos\", \"OR\")"
   ]
  },
  {
   "cell_type": "code",
   "execution_count": null,
   "metadata": {},
   "outputs": [],
   "source": [
    "busca_booleana(\"Belo\", \"Horizonte\", \"AND\")"
   ]
  },
  {
   "cell_type": "code",
   "execution_count": null,
   "metadata": {},
   "outputs": [],
   "source": [
    "busca_booleana(\"Belo\", \"Horizonte\", \"OR\")"
   ]
  },
  {
   "cell_type": "markdown",
   "metadata": {},
   "source": [
    " ### Asserts"
   ]
  },
  {
   "cell_type": "code",
   "execution_count": 20,
   "metadata": {},
   "outputs": [],
   "source": [
    "assert len(busca_booleana(\"debate\", \"presidencial\", \"OR\")) , \"\"== 1770\n",
    "assert len(busca_booleana(\"debate\", \"presidencial\", \"AND\")) == 201\n",
    "assert len(busca_booleana(\"presidenciáveis\", \"corruptos\",\"OR\")) == 164\n",
    "assert len(busca_booleana(\"presidenciáveis\", \"corruptos\", \"AND\"))== 0\n",
    "assert len(busca_booleana(\"Belo\", \"Horizonte\", \"OR\")) == 331\n",
    "assert len(busca_booleana(\"Belo\", \"Horizonte\", \"AND\")) == 242"
   ]
  }
 ],
 "metadata": {
  "kernelspec": {
   "display_name": "Python 3",
   "language": "python",
   "name": "python3"
  },
  "language_info": {
   "codemirror_mode": {
    "name": "ipython",
    "version": 3
   },
   "file_extension": ".py",
   "mimetype": "text/x-python",
   "name": "python",
   "nbconvert_exporter": "python",
   "pygments_lexer": "ipython3",
   "version": "3.5.2"
  }
 },
 "nbformat": 4,
 "nbformat_minor": 2
}
