{
 "cells": [
  {
   "cell_type": "code",
   "execution_count": null,
   "metadata": {},
   "outputs": [],
   "source": [
    "import pandas as pd\n",
    "import numpy as np\n",
    "import nltk\n",
    "from textblob import TextBlob\n",
    "from math import log"
   ]
  },
  {
   "cell_type": "code",
   "execution_count": null,
   "metadata": {},
   "outputs": [],
   "source": [
    "dados = pd.read_csv('../data/estadao_noticias_eleicao.csv')\n",
    "dados = dados.replace(np.nan, '', regex=True)"
   ]
  },
  {
   "cell_type": "markdown",
   "metadata": {},
   "source": [
    "### Visão geral dos dados"
   ]
  },
  {
   "cell_type": "code",
   "execution_count": null,
   "metadata": {},
   "outputs": [],
   "source": [
    "dados.head()"
   ]
  },
  {
   "cell_type": "code",
   "execution_count": null,
   "metadata": {},
   "outputs": [],
   "source": [
    "print(\"Os dados tem %d observações e %d colunas\" % dados.shape)"
   ]
  },
  {
   "cell_type": "code",
   "execution_count": null,
   "metadata": {},
   "outputs": [],
   "source": [
    "def calculaTF(documento, termo):\n",
    "    return len(list(filter((lambda x: x.lower() == termo), documento)))"
   ]
  },
  {
   "cell_type": "code",
   "execution_count": null,
   "metadata": {},
   "outputs": [],
   "source": [
    "def calcula_indices_invertidos(data):\n",
    "    indices = {}\n",
    "    for index, row in data.iterrows():\n",
    "        print(index, \",\", row)\n",
    "        titulo = TextBlob(row[\"titulo\"]).words\n",
    "        subTitulo = TextBlob(row[\"subTitulo\"]).words\n",
    "        conteudo = TextBlob(row[\"conteudo\"]).words\n",
    "        \n",
    "        texto = titulo + subTitulo + conteudo\n",
    "        \n",
    "        for palavra in texto:\n",
    "            palavra_low = palavra.lower()\n",
    "            if(palavra_low in indices):\n",
    "                temp = indices[palavra_low]\n",
    "                if(row[\"idNoticia\"] not in temp):\n",
    "                    temp[row[\"idNoticia\"]] = calculaTF(texto, palavra_low)\n",
    "                    indices[palavra_low] = temp\n",
    "            else:\n",
    "                indices[palavra_low] = {row[\"idNoticia\"]: calculaTF(texto, palavra_low)}\n",
    "    return(indices)\n",
    "\n",
    "indices_invertidos = calcula_indices_invertidos(dados)"
   ]
  },
  {
   "cell_type": "code",
   "execution_count": null,
   "metadata": {},
   "outputs": [],
   "source": [
    "n_documentos = dados.shape[0]\n",
    "\n",
    "def idf(palavra):\n",
    "    palavra = palavra.lower()\n",
    "    k = len(indices_invertidos[palavra])\n",
    "    idf = log((n_documentos+1)/k)\n",
    "    \n",
    "    return(idf)"
   ]
  },
  {
   "cell_type": "code",
   "execution_count": null,
   "metadata": {},
   "outputs": [],
   "source": [
    "#representação binária;\n",
    "#TF;\n",
    "#TF-IDF; \n",
    "# BM25"
   ]
  },
  {
   "cell_type": "code",
   "execution_count": null,
   "metadata": {},
   "outputs": [],
   "source": [
    "def calcula_tf(query, documento):\n",
    "    total = 0;\n",
    "    for palavra in query:\n",
    "        if(palavra in indices_invertidos):\n",
    "            temp = indices_invertidos[palavra]\n",
    "            if(documento in temp):\n",
    "                total += temp[documento]\n",
    "    return(total)\n",
    "def calcula_"
   ]
  },
  {
   "cell_type": "code",
   "execution_count": null,
   "metadata": {},
   "outputs": [],
   "source": [
    "def busca_documentos(query):\n",
    "    documentos = set()\n",
    "    for palavra in query:\n",
    "        if(palavra in indices_invertidos):\n",
    "            documentos = documentos | set(indices_invertidos[palavra])\n",
    "    return(list(documentos))"
   ]
  },
  {
   "cell_type": "code",
   "execution_count": 90,
   "metadata": {},
   "outputs": [
    {
     "data": {
      "text/plain": [
       "[2744, 7, 7672, 2112, 2388]"
      ]
     },
     "execution_count": 90,
     "metadata": {},
     "output_type": "execute_result"
    }
   ],
   "source": [
    "def ranking_tf(query):\n",
    "    docs = busca_documentos(query)\n",
    "    tf_docs = []\n",
    "    for doc in docs:\n",
    "        tf_docs.append(calcula_tf(query, doc))\n",
    "    docs_ordenado = [docs[i] for i in np.argsort(tf_docs)[::-1]]\n",
    "    return(docs_ordenado[0:5])\n",
    "\n",
    "ranking_tf([\"segundo\", \"turno\"])"
   ]
  },
  {
   "cell_type": "code",
   "execution_count": null,
   "metadata": {},
   "outputs": [],
   "source": [
    "def ranking_idf(query):\n",
    "    docs = busca_documentos(query)\n",
    "    idf_docs = []\n",
    "    for doc in docs:\n",
    "        "
   ]
  }
 ],
 "metadata": {
  "kernelspec": {
   "display_name": "Python 3",
   "language": "python",
   "name": "python3"
  },
  "language_info": {
   "codemirror_mode": {
    "name": "ipython",
    "version": 3
   },
   "file_extension": ".py",
   "mimetype": "text/x-python",
   "name": "python",
   "nbconvert_exporter": "python",
   "pygments_lexer": "ipython3",
   "version": "3.6.5"
  }
 },
 "nbformat": 4,
 "nbformat_minor": 2
}
