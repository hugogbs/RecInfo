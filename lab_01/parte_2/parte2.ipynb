{
 "cells": [
  {
   "cell_type": "code",
   "execution_count": null,
   "metadata": {},
   "outputs": [],
   "source": [
    "import pandas as pd\n",
    "import numpy as np\n",
    "import nltk\n",
    "from textblob import TextBlob\n",
    "from math import log\n",
    "import ast"
   ]
  },
  {
   "cell_type": "code",
   "execution_count": null,
   "metadata": {},
   "outputs": [],
   "source": [
    "dados = pd.read_csv('../data/estadao_noticias_eleicao.csv')\n",
    "dados = dados.replace(np.nan, '', regex=True)"
   ]
  },
  {
   "cell_type": "markdown",
   "metadata": {},
   "source": [
    "### Visão geral dos dados"
   ]
  },
  {
   "cell_type": "code",
   "execution_count": null,
   "metadata": {},
   "outputs": [],
   "source": [
    "dados.head()"
   ]
  },
  {
   "cell_type": "code",
   "execution_count": null,
   "metadata": {},
   "outputs": [],
   "source": [
    "print(\"Os dados tem %d observações e %d colunas\" % dados.shape)"
   ]
  },
  {
   "cell_type": "code",
   "execution_count": null,
   "metadata": {},
   "outputs": [],
   "source": [
    "def calculaTF(documento, termo):\n",
    "    return len(list(filter((lambda x: x.lower() == termo), documento)))"
   ]
  },
  {
   "cell_type": "code",
   "execution_count": null,
   "metadata": {},
   "outputs": [],
   "source": [
    "def calcula_indices_invertidos(data):\n",
    "    indices = {}\n",
    "    for index, row in data.iterrows():\n",
    "        print(index, \",\", row)\n",
    "        titulo = TextBlob(row[\"titulo\"]).words\n",
    "        subTitulo = TextBlob(row[\"subTitulo\"]).words\n",
    "        conteudo = TextBlob(row[\"conteudo\"]).words\n",
    "        \n",
    "        texto = titulo + subTitulo + conteudo\n",
    "        \n",
    "        for palavra in texto:\n",
    "            palavra_low = palavra.lower()\n",
    "            if(palavra_low in indices):\n",
    "                temp = indices[palavra_low]\n",
    "                if(row[\"idNoticia\"] not in temp):\n",
    "                    temp[row[\"idNoticia\"]] = calculaTF(texto, palavra_low)\n",
    "                    indices[palavra_low] = temp\n",
    "            else:\n",
    "                indices[palavra_low] = {row[\"idNoticia\"]: calculaTF(texto, palavra_low)}\n",
    "    return(indices)\n",
    "\n",
    "indices_invertidos = calcula_indices_invertidos(dados)"
   ]
  },
  {
   "cell_type": "code",
   "execution_count": null,
   "metadata": {},
   "outputs": [],
   "source": [
    "n_documentos = dados.shape[0]\n",
    "\n",
    "def idf(palavra):\n",
    "    palavra = palavra.lower()\n",
    "    k = len(indices_invertidos[palavra])\n",
    "    idf = log((n_documentos+1)/k)\n",
    "    \n",
    "    return(idf)"
   ]
  },
  {
   "cell_type": "code",
   "execution_count": null,
   "metadata": {},
   "outputs": [],
   "source": [
    "#representação binária;\n",
    "#TF;\n",
    "#TF-IDF; \n",
    "# BM25"
   ]
  },
  {
   "cell_type": "code",
   "execution_count": null,
   "metadata": {},
   "outputs": [],
   "source": [
    "def calcula_binario(query, documento):\n",
    "    total = 0\n",
    "    for palavra in query:\n",
    "        if(palavra in indices_invertidos):\n",
    "            temp = indices_invertidos[palavra]\n",
    "            if(documento in temp):\n",
    "                total += 1\n",
    "    return(total) \n",
    "\n",
    "def calcula_tf(query, documento):\n",
    "    total = 0\n",
    "    for palavra in query:\n",
    "        if(palavra in indices_invertidos):\n",
    "            temp = indices_invertidos[palavra]\n",
    "            if(documento in temp):\n",
    "                total += temp[documento]\n",
    "    return(total)\n",
    "\n",
    "def calcula_tf_idf(query, documento):\n",
    "    total = 0\n",
    "    for palavra in query:\n",
    "        if(palavra in indices_invertidos):\n",
    "            temp = indices_invertidos[palavra]\n",
    "            if(documento in temp):\n",
    "                total += (temp[documento] * idf(palavra))\n",
    "    return(total)\n",
    "\n",
    "def calcula_bm25(query, documento):\n",
    "    total = 0\n",
    "    k = 1.5\n",
    "    for palavra in query:\n",
    "        if(palavra in indices_invertidos):\n",
    "            temp = indices_invertidos[palavra]\n",
    "            if(documento in temp):\n",
    "                total += ( ((temp[documento]*(k+1)) / (temp[documento]*k)) * idf(palavra) )\n",
    "    return(total)"
   ]
  },
  {
   "cell_type": "code",
   "execution_count": null,
   "metadata": {},
   "outputs": [],
   "source": [
    "def busca_documentos(query):\n",
    "    documentos = set()\n",
    "    for palavra in query:\n",
    "        if(palavra in indices_invertidos):\n",
    "            documentos = documentos | set(indices_invertidos[palavra])\n",
    "    return(list(documentos))"
   ]
  },
  {
   "cell_type": "code",
   "execution_count": null,
   "metadata": {},
   "outputs": [],
   "source": [
    "def ranking_binario(query):\n",
    "    docs = busca_documentos(query)\n",
    "    bin_docs = []\n",
    "    for doc in docs:\n",
    "        bin_docs.append(calcula_binario(query, doc))\n",
    "    docs_ordenado = [docs[i] for i in np.argsort(bin_docs)[::-1]]\n",
    "    return(docs_ordenado[0:5])\n",
    "\n",
    "ranking_binario([\"lava\", \"jato\"])"
   ]
  },
  {
   "cell_type": "code",
   "execution_count": null,
   "metadata": {},
   "outputs": [],
   "source": [
    "def ranking_tf(query):\n",
    "    docs = busca_documentos(query)\n",
    "    tf_docs = []\n",
    "    for doc in docs:\n",
    "        tf_docs.append(calcula_tf(query, doc))\n",
    "    docs_ordenado = [docs[i] for i in np.argsort(tf_docs)[::-1]]\n",
    "    return(docs_ordenado[0:5])\n",
    "\n",
    "ranking_tf([\"segundo\", \"turno\"])"
   ]
  },
  {
   "cell_type": "code",
   "execution_count": null,
   "metadata": {},
   "outputs": [],
   "source": [
    "def ranking_tf_idf(query):\n",
    "    docs = busca_documentos(query)\n",
    "    idf_docs = []\n",
    "    for doc in docs:\n",
    "        idf_docs.append(calcula_tf_idf(query, doc))\n",
    "    docs_ordenado = [docs[i] for i in np.argsort(idf_docs)[::-1]]\n",
    "    return(docs_ordenado[0:5])\n",
    "\n",
    "ranking_tf_idf([\"segundo\", \"turno\"])   "
   ]
  },
  {
   "cell_type": "code",
   "execution_count": null,
   "metadata": {},
   "outputs": [],
   "source": [
    "def ranking_BM25(query):\n",
    "    docs = busca_documentos(query)\n",
    "    bm25_docs = []\n",
    "    for doc in docs:\n",
    "        bm25_docs.append(calcula_bm25(query, doc))\n",
    "    docs_ordenado = [docs[i] for i in np.argsort(bm25_docs)[::-1]]\n",
    "    return(docs_ordenado[0:5])\n",
    "\n",
    "ranking_BM25([\"compra\", \"de\", \"voto\"])\n"
   ]
  },
  {
   "cell_type": "code",
   "execution_count": 172,
   "metadata": {},
   "outputs": [
    {
     "data": {
      "text/html": [
       "<div>\n",
       "<style scoped>\n",
       "    .dataframe tbody tr th:only-of-type {\n",
       "        vertical-align: middle;\n",
       "    }\n",
       "\n",
       "    .dataframe tbody tr th {\n",
       "        vertical-align: top;\n",
       "    }\n",
       "\n",
       "    .dataframe thead th {\n",
       "        text-align: right;\n",
       "    }\n",
       "</style>\n",
       "<table border=\"1\" class=\"dataframe\">\n",
       "  <thead>\n",
       "    <tr style=\"text-align: right;\">\n",
       "      <th></th>\n",
       "      <th>str_busca</th>\n",
       "      <th>google</th>\n",
       "      <th>busca_binaria</th>\n",
       "      <th>tf</th>\n",
       "      <th>tfidf</th>\n",
       "      <th>bm25</th>\n",
       "    </tr>\n",
       "  </thead>\n",
       "  <tbody>\n",
       "    <tr>\n",
       "      <th>0</th>\n",
       "      <td>segundo turno</td>\n",
       "      <td>[1062, 1942, 2161, 2078, 2073]</td>\n",
       "      <td>[2048, 1, 2049, 2050, 4096]</td>\n",
       "      <td>[2744, 7, 2112, 7672, 2388]</td>\n",
       "      <td>[2744, 2112, 7672, 1235, 2388]</td>\n",
       "      <td>[2744, 2112, 7672, 2388, 2178]</td>\n",
       "    </tr>\n",
       "    <tr>\n",
       "      <th>1</th>\n",
       "      <td>lava jato</td>\n",
       "      <td>[616, 164, 1734, 163, 6716]</td>\n",
       "      <td>[3, 13, 15, 27, 6177]</td>\n",
       "      <td>[163, 353, 2807, 127, 359]</td>\n",
       "      <td>[163, 353, 2807, 127, 359]</td>\n",
       "      <td>[163, 353, 2807, 127, 359]</td>\n",
       "    </tr>\n",
       "    <tr>\n",
       "      <th>2</th>\n",
       "      <td>projeto de lei</td>\n",
       "      <td>[2853, 275, 978, 7092, 3171]</td>\n",
       "      <td>[3584, 6145, 8194, 8706, 6660]</td>\n",
       "      <td>[7, 3942, 7017, 1250, 6942]</td>\n",
       "      <td>[2232, 6461, 2853, 3171, 3942]</td>\n",
       "      <td>[2232, 6461, 3171, 2853, 3170]</td>\n",
       "    </tr>\n",
       "    <tr>\n",
       "      <th>3</th>\n",
       "      <td>compra de voto</td>\n",
       "      <td>[2200, 8615, 2265, 7746, 82]</td>\n",
       "      <td>[7424, 2178, 6531, 5122, 2311]</td>\n",
       "      <td>[3942, 7017, 5129, 2047, 748]</td>\n",
       "      <td>[7343, 7293, 6791, 3942, 2047]</td>\n",
       "      <td>[7343, 7293, 6791, 7329, 8615]</td>\n",
       "    </tr>\n",
       "    <tr>\n",
       "      <th>4</th>\n",
       "      <td>ministério público</td>\n",
       "      <td>[64, 6652, 164, 6550, 8615]</td>\n",
       "      <td>[8194, 7, 4104, 8201, 4109]</td>\n",
       "      <td>[6798, 8018, 6244, 6965, 6550]</td>\n",
       "      <td>[6798, 8018, 6244, 6965, 6550]</td>\n",
       "      <td>[6798, 8018, 6244, 6965, 6550]</td>\n",
       "    </tr>\n",
       "  </tbody>\n",
       "</table>\n",
       "</div>"
      ],
      "text/plain": [
       "            str_busca                          google  \\\n",
       "0       segundo turno  [1062, 1942, 2161, 2078, 2073]   \n",
       "1           lava jato     [616, 164, 1734, 163, 6716]   \n",
       "2      projeto de lei    [2853, 275, 978, 7092, 3171]   \n",
       "3      compra de voto    [2200, 8615, 2265, 7746, 82]   \n",
       "4  ministério público     [64, 6652, 164, 6550, 8615]   \n",
       "\n",
       "                    busca_binaria                              tf  \\\n",
       "0     [2048, 1, 2049, 2050, 4096]     [2744, 7, 2112, 7672, 2388]   \n",
       "1           [3, 13, 15, 27, 6177]      [163, 353, 2807, 127, 359]   \n",
       "2  [3584, 6145, 8194, 8706, 6660]     [7, 3942, 7017, 1250, 6942]   \n",
       "3  [7424, 2178, 6531, 5122, 2311]   [3942, 7017, 5129, 2047, 748]   \n",
       "4     [8194, 7, 4104, 8201, 4109]  [6798, 8018, 6244, 6965, 6550]   \n",
       "\n",
       "                            tfidf                            bm25  \n",
       "0  [2744, 2112, 7672, 1235, 2388]  [2744, 2112, 7672, 2388, 2178]  \n",
       "1      [163, 353, 2807, 127, 359]      [163, 353, 2807, 127, 359]  \n",
       "2  [2232, 6461, 2853, 3171, 3942]  [2232, 6461, 3171, 2853, 3170]  \n",
       "3  [7343, 7293, 6791, 3942, 2047]  [7343, 7293, 6791, 7329, 8615]  \n",
       "4  [6798, 8018, 6244, 6965, 6550]  [6798, 8018, 6244, 6965, 6550]  "
      ]
     },
     "execution_count": 172,
     "metadata": {},
     "output_type": "execute_result"
    }
   ],
   "source": [
    "gabarito = pd.read_csv('../data/gabarito.csv')\n",
    "gabarito.head()"
   ]
  },
  {
   "cell_type": "code",
   "execution_count": null,
   "metadata": {},
   "outputs": [],
   "source": [
    "def apk(actual, predicted, k=10):\n",
    "    if (len(predicted)>k):\n",
    "        predicted = predicted[:k]\n",
    "        \n",
    "    score = 0.0\n",
    "    num_hits = 0.0\n",
    "\n",
    "    for i,p in enumerate(predicted):\n",
    "        if p in actual and p not in predicted[:i]:\n",
    "            num_hits += 1.0\n",
    "            score += num_hits / (i+1.0)\n",
    "\n",
    "    if (not actual):\n",
    "        return 0.0\n",
    "\n",
    "    return (score / min(len(actual), k))\n",
    "\n",
    "def mapk(actual, predicted, k=10):\n",
    "    return np.mean([apk(a,p,k) for a,p in zip(actual, predicted)])"
   ]
  },
  {
   "cell_type": "code",
   "execution_count": 162,
   "metadata": {},
   "outputs": [],
   "source": [
    "consultas = [\n",
    "    [\"segundo\", \"turno\"],\n",
    "    [\"lava\", \"jato\"],\n",
    "    [\"projeto\", \"de\", \"lei\"],\n",
    "    [\"compra\", \"de\", \"voto\"],\n",
    "    [\"ministério\", \"público\"]\n",
    "]"
   ]
  },
  {
   "cell_type": "code",
   "execution_count": 173,
   "metadata": {},
   "outputs": [],
   "source": [
    "result_rep_binaria = []\n",
    "result_tf = []\n",
    "result_tf_idf = []\n",
    "result_bm25 = []\n",
    "for query in consultas:\n",
    "    result_rep_binaria.append(ranking_binario(query))\n",
    "    result_tf.append(ranking_tf(query))\n",
    "    result_tf_idf.append(ranking_tf_idf(query))\n",
    "    result_bm25.append(ranking_BM25(query))"
   ]
  },
  {
   "cell_type": "code",
   "execution_count": 183,
   "metadata": {},
   "outputs": [],
   "source": [
    "expected_rep_binaria = gabarito[\"busca_binaria\"].tolist()\n",
    "expected_tf = gabarito[\"tf\"].tolist()\n",
    "expected_tf_idf = gabarito[\"tfidf\"].tolist()\n",
    "expected_bm25 = gabarito[\"bm25\"].tolist()\n",
    "expected_google = gabarito[\"google\"].tolist()\n",
    "\n",
    "for l in range(len(expected_rep_binaria)):\n",
    "    expected_rep_binaria[l] = ast.literal_eval(expected_rep_binaria[l])\n",
    "    expected_tf[l] = ast.literal_eval(expected_tf[l])\n",
    "    expected_tf_idf[l] = ast.literal_eval(expected_tf_idf[l])\n",
    "    expected_bm25[l] = ast.literal_eval(expected_bm25[l])\n",
    "    expected_google[l] = ast.literal_eval(expected_google[l])"
   ]
  },
  {
   "cell_type": "code",
   "execution_count": 187,
   "metadata": {},
   "outputs": [
    {
     "name": "stdout",
     "output_type": "stream",
     "text": [
      "0.04\n",
      "0.63\n",
      "0.5940000000000001\n",
      "0.013333333333333332\n"
     ]
    }
   ],
   "source": [
    "print(mapk(expected_rep_binaria, result_rep_binaria, k=5))\n",
    "print(mapk(expected_tf, result_tf, k=5))\n",
    "print(mapk(expected_tf_idf, result_tf_idf, k=5))\n",
    "print(mapk(expected_bm25, result_bm25, k=5))\n"
   ]
  }
 ],
 "metadata": {
  "kernelspec": {
   "display_name": "Python 3",
   "language": "python",
   "name": "python3"
  },
  "language_info": {
   "codemirror_mode": {
    "name": "ipython",
    "version": 3
   },
   "file_extension": ".py",
   "mimetype": "text/x-python",
   "name": "python",
   "nbconvert_exporter": "python",
   "pygments_lexer": "ipython3",
   "version": "3.6.5"
  }
 },
 "nbformat": 4,
 "nbformat_minor": 2
}
