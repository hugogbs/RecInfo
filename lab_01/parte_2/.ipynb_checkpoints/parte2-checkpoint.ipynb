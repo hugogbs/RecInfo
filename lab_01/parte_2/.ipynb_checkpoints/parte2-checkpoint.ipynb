{
 "cells": [
  {
   "cell_type": "code",
   "execution_count": 282,
   "metadata": {},
   "outputs": [],
   "source": [
    "import pandas as pd\n",
    "import numpy as np\n",
    "import nltk\n",
    "from textblob import TextBlob\n",
    "from math import log\n",
    "import ast\n",
    "import matplotlib.pyplot as plt"
   ]
  },
  {
   "cell_type": "code",
   "execution_count": 283,
   "metadata": {},
   "outputs": [],
   "source": [
    "dados = pd.read_csv('../data/estadao_noticias_eleicao.csv')\n",
    "dados = dados.replace(np.nan, '', regex=True)"
   ]
  },
  {
   "cell_type": "markdown",
   "metadata": {},
   "source": [
    "## Visão geral dos dados"
   ]
  },
  {
   "cell_type": "code",
   "execution_count": 284,
   "metadata": {},
   "outputs": [
    {
     "data": {
      "text/html": [
       "<div>\n",
       "<style scoped>\n",
       "    .dataframe tbody tr th:only-of-type {\n",
       "        vertical-align: middle;\n",
       "    }\n",
       "\n",
       "    .dataframe tbody tr th {\n",
       "        vertical-align: top;\n",
       "    }\n",
       "\n",
       "    .dataframe thead th {\n",
       "        text-align: right;\n",
       "    }\n",
       "</style>\n",
       "<table border=\"1\" class=\"dataframe\">\n",
       "  <thead>\n",
       "    <tr style=\"text-align: right;\">\n",
       "      <th></th>\n",
       "      <th>timestamp</th>\n",
       "      <th>titulo</th>\n",
       "      <th>subTitulo</th>\n",
       "      <th>conteudo</th>\n",
       "      <th>url</th>\n",
       "      <th>idNoticia</th>\n",
       "    </tr>\n",
       "  </thead>\n",
       "  <tbody>\n",
       "    <tr>\n",
       "      <th>0</th>\n",
       "      <td>2014-12-31T00:00:00Z</td>\n",
       "      <td>PT espera 30 mil pessoas em festa na Esplanada</td>\n",
       "      <td>Objetivo é demonstrar apoio popular a Dilma e ...</td>\n",
       "      <td>BRASÍLIA - Após o desgaste provocado com o lan...</td>\n",
       "      <td>http://politica.estadao.com.br/noticias/geral,...</td>\n",
       "      <td>1</td>\n",
       "    </tr>\n",
       "    <tr>\n",
       "      <th>1</th>\n",
       "      <td>2014-12-31T00:00:00Z</td>\n",
       "      <td>Alckmin toma posse de olho no Planalto</td>\n",
       "      <td>Governador reeleito tenta amarrar tucanos paul...</td>\n",
       "      <td>Reeleito em outubro, o governador tucano Geral...</td>\n",
       "      <td>http://politica.estadao.com.br/noticias/geral,...</td>\n",
       "      <td>2</td>\n",
       "    </tr>\n",
       "    <tr>\n",
       "      <th>2</th>\n",
       "      <td>2014-12-31T00:00:00Z</td>\n",
       "      <td>Seis obstáculos e desafios do segundo mandato ...</td>\n",
       "      <td>Em meio a escândalo de corrupção, presidente t...</td>\n",
       "      <td>1. Rearranjo das contas A nova equipe econôm...</td>\n",
       "      <td>http://politica.estadao.com.br/noticias/geral,...</td>\n",
       "      <td>3</td>\n",
       "    </tr>\n",
       "    <tr>\n",
       "      <th>3</th>\n",
       "      <td>2014-12-31T00:00:00Z</td>\n",
       "      <td></td>\n",
       "      <td>Veja as principais fotos do dia e dos eventos ...</td>\n",
       "      <td></td>\n",
       "      <td>http://fotos.estadao.com.br/fotos/politica,dil...</td>\n",
       "      <td>4</td>\n",
       "    </tr>\n",
       "    <tr>\n",
       "      <th>4</th>\n",
       "      <td>2014-12-31T00:00:00Z</td>\n",
       "      <td></td>\n",
       "      <td>Veja as principais fotos do dia e dos eventos ...</td>\n",
       "      <td></td>\n",
       "      <td>http://fotos.estadao.com.br/fotos/politica,dil...</td>\n",
       "      <td>5</td>\n",
       "    </tr>\n",
       "  </tbody>\n",
       "</table>\n",
       "</div>"
      ],
      "text/plain": [
       "              timestamp                                             titulo  \\\n",
       "0  2014-12-31T00:00:00Z     PT espera 30 mil pessoas em festa na Esplanada   \n",
       "1  2014-12-31T00:00:00Z             Alckmin toma posse de olho no Planalto   \n",
       "2  2014-12-31T00:00:00Z  Seis obstáculos e desafios do segundo mandato ...   \n",
       "3  2014-12-31T00:00:00Z                                                      \n",
       "4  2014-12-31T00:00:00Z                                                      \n",
       "\n",
       "                                           subTitulo  \\\n",
       "0  Objetivo é demonstrar apoio popular a Dilma e ...   \n",
       "1  Governador reeleito tenta amarrar tucanos paul...   \n",
       "2  Em meio a escândalo de corrupção, presidente t...   \n",
       "3  Veja as principais fotos do dia e dos eventos ...   \n",
       "4  Veja as principais fotos do dia e dos eventos ...   \n",
       "\n",
       "                                            conteudo  \\\n",
       "0  BRASÍLIA - Após o desgaste provocado com o lan...   \n",
       "1  Reeleito em outubro, o governador tucano Geral...   \n",
       "2    1. Rearranjo das contas A nova equipe econôm...   \n",
       "3                                                      \n",
       "4                                                      \n",
       "\n",
       "                                                 url  idNoticia  \n",
       "0  http://politica.estadao.com.br/noticias/geral,...          1  \n",
       "1  http://politica.estadao.com.br/noticias/geral,...          2  \n",
       "2  http://politica.estadao.com.br/noticias/geral,...          3  \n",
       "3  http://fotos.estadao.com.br/fotos/politica,dil...          4  \n",
       "4  http://fotos.estadao.com.br/fotos/politica,dil...          5  "
      ]
     },
     "execution_count": 284,
     "metadata": {},
     "output_type": "execute_result"
    }
   ],
   "source": [
    "dados.head()"
   ]
  },
  {
   "cell_type": "code",
   "execution_count": 285,
   "metadata": {},
   "outputs": [
    {
     "name": "stdout",
     "output_type": "stream",
     "text": [
      "Os dados tem 8716 observações e 6 colunas\n"
     ]
    }
   ],
   "source": [
    "print(\"Os dados tem %d observações e %d colunas\" % dados.shape)"
   ]
  },
  {
   "cell_type": "code",
   "execution_count": 286,
   "metadata": {},
   "outputs": [],
   "source": [
    "def calculaTF(documento, termo):\n",
    "    return len(list(filter((lambda x: x.lower() == termo), documento)))"
   ]
  },
  {
   "cell_type": "markdown",
   "metadata": {},
   "source": [
    "## Cálculo dos índices invertidos\n",
    "\n",
    "Gera a estrutura de dados que representa o índice de busca, Tal estrutura é dicionário de dicionários na forma:\n",
    "\n",
    "**{termo : {docID : frequência}}**"
   ]
  },
  {
   "cell_type": "code",
   "execution_count": 288,
   "metadata": {},
   "outputs": [],
   "source": [
    "def calcula_indices_invertidos(data):\n",
    "    indices = {}\n",
    "    for index, row in data.iterrows():\n",
    "        titulo = TextBlob(row[\"titulo\"]).words\n",
    "        subTitulo = TextBlob(row[\"subTitulo\"]).words\n",
    "        conteudo = TextBlob(row[\"conteudo\"]).words\n",
    "        \n",
    "        texto = titulo + subTitulo + conteudo\n",
    "        \n",
    "        for palavra in texto:\n",
    "            palavra_low = palavra.lower()\n",
    "            if(palavra_low in indices):\n",
    "                temp = indices[palavra_low]\n",
    "                if(row[\"idNoticia\"] not in temp):\n",
    "                    temp[row[\"idNoticia\"]] = calculaTF(texto, palavra_low)\n",
    "                    indices[palavra_low] = temp\n",
    "            else:\n",
    "                indices[palavra_low] = {row[\"idNoticia\"]: calculaTF(texto, palavra_low)}\n",
    "    return(indices)\n",
    "\n",
    "indices_invertidos = calcula_indices_invertidos(dados)"
   ]
  },
  {
   "cell_type": "markdown",
   "metadata": {},
   "source": [
    "## Cálcudo do IDF\n",
    "\n",
    "A função abaixo calcula do IDF (Inverse document frequency) de uma palavra base se dados"
   ]
  },
  {
   "cell_type": "code",
   "execution_count": 290,
   "metadata": {},
   "outputs": [],
   "source": [
    "n_documentos = dados.shape[0]\n",
    "\n",
    "def idf(palavra):\n",
    "    palavra = palavra.lower()\n",
    "    k = len(indices_invertidos[palavra])\n",
    "    idf = log((n_documentos+1)/k)\n",
    "    \n",
    "    return(idf)"
   ]
  },
  {
   "cell_type": "markdown",
   "metadata": {},
   "source": [
    "## Cálculo da relevância de um documento para uma consulta\n",
    "\n",
    "As funções abaixo são responsáveis por calcular o valor de relevância de um documento em função de uma query. Cada uma delas segue as seguintes estratégias, respectivamente:\n",
    "\n",
    "* Representação binária\n",
    "* TF (Term frequency)\n",
    "* TF-IDF\n",
    "* BM25\n",
    "\n",
    "Tais valores são utilizados para ranquear os documentos."
   ]
  },
  {
   "cell_type": "code",
   "execution_count": 466,
   "metadata": {},
   "outputs": [],
   "source": [
    "def calcula_binario(query, documento):\n",
    "    total = 0\n",
    "    for palavra in query:\n",
    "        if(palavra in indices_invertidos):\n",
    "            temp = indices_invertidos[palavra]\n",
    "            if(documento in temp):\n",
    "                total += 1\n",
    "    return(total) \n",
    "\n",
    "def calcula_tf(query, documento):\n",
    "    total = 0\n",
    "    for palavra in query:\n",
    "        if(palavra in indices_invertidos):\n",
    "            temp = indices_invertidos[palavra]\n",
    "            if(documento in temp):\n",
    "                total += temp[documento]\n",
    "    return(total)\n",
    "\n",
    "def calcula_tf_idf(query, documento):\n",
    "    total = 0\n",
    "    for palavra in query:\n",
    "        if(palavra in indices_invertidos):\n",
    "            temp = indices_invertidos[palavra]\n",
    "            if(documento in temp):\n",
    "                total += (temp[documento] * idf(palavra))\n",
    "    return(total)\n",
    "\n",
    "def calcula_bm25(query, documento, k_low = 1.9, k_high= 2.4):\n",
    "    total = 0\n",
    "    for palavra in query:\n",
    "        if(palavra in indices_invertidos):\n",
    "            temp = indices_invertidos[palavra]\n",
    "            if(documento in temp):\n",
    "                tf = temp[documento]\n",
    "                k = np.random.uniform(low=k_low, high=k_high)\n",
    "                total += idf(palavra) * ((tf * (k+1)) / (tf+k))\n",
    "    return(total)"
   ]
  },
  {
   "cell_type": "markdown",
   "metadata": {},
   "source": [
    "## Busca de Documentos\n",
    "\n",
    "A função *busca_documentos* retorna uma lista de documentos que contém todos em termos presentes na consulta, funcionando como um **busca AND**."
   ]
  },
  {
   "cell_type": "code",
   "execution_count": 305,
   "metadata": {},
   "outputs": [],
   "source": [
    "def busca_documentos(query):\n",
    "    if(query[0] in indices_invertidos):\n",
    "        documentos = set(indices_invertidos[query[0]])\n",
    "    else: return([])\n",
    "    for palavra in query[1:]:\n",
    "        if(palavra in indices_invertidos):\n",
    "            documentos = documentos & set(indices_invertidos[palavra])\n",
    "    return(list(documentos))"
   ]
  },
  {
   "cell_type": "markdown",
   "metadata": {},
   "source": [
    "## Funções de Ranking\n",
    "\n",
    "O conjunto de funções abaixo é responsável por retornar os 5 documentos mais relevantes para uma consulta de acordo com as seguintes estratégias, respectivamente:\n",
    "\n",
    "* Representação binária\n",
    "    * Os documentos são ordenados de acordo com o número da palavras que casam com a query\n",
    "* TF (Term frequency)\n",
    "    * O critério de ordenação é a frequência dos termos da query no documento\n",
    "* TF-IDF\n",
    "    * Funciona como o TF mas penaliza a ocorrência de palavras comuns\n",
    "* BM25\n",
    "    * Funciona como o TF-IDF mas adiciona uma penalização de modo a evitar a dominância de um único termo sobre os demais\n",
    "\n",
    "\n",
    "São retornados os 5 documentos mais relevantes em cada busca."
   ]
  },
  {
   "cell_type": "code",
   "execution_count": 467,
   "metadata": {},
   "outputs": [],
   "source": [
    "def ranking_binario(query):\n",
    "    docs = busca_documentos(query)\n",
    "    bin_docs = []\n",
    "    for doc in docs:\n",
    "        bin_docs.append(calcula_binario(query, doc))\n",
    "    docs_ordenado = [docs[i] for i in np.argsort(bin_docs)[::-1]]\n",
    "    return(docs_ordenado[0:5])\n",
    "\n",
    "def ranking_tf(query):\n",
    "    docs = busca_documentos(query)\n",
    "    tf_docs = []\n",
    "    for doc in docs:\n",
    "        tf_docs.append(calcula_tf(query, doc))\n",
    "    docs_ordenado = [docs[i] for i in np.argsort(tf_docs)[::-1]]\n",
    "    return(docs_ordenado[0:5])\n",
    "\n",
    "def ranking_tf_idf(query):\n",
    "    docs = busca_documentos(query)\n",
    "    idf_docs = []\n",
    "    for doc in docs:\n",
    "        idf_docs.append(calcula_tf_idf(query, doc))\n",
    "    docs_ordenado = [docs[i] for i in np.argsort(idf_docs)[::-1]]\n",
    "    return(docs_ordenado[0:5])\n",
    "\n",
    "def ranking_BM25(query, k_low = 1.9, k_high = 2.4):\n",
    "    docs = busca_documentos(query)\n",
    "    bm25_docs = []\n",
    "    for doc in docs:\n",
    "        bm25_docs.append(calcula_bm25(query, doc, k_low = k_low, k_high = k_high))\n",
    "    docs_ordenado = [docs[i] for i in np.argsort(bm25_docs)[::-1]]\n",
    "    return(docs_ordenado[0:5])"
   ]
  },
  {
   "cell_type": "markdown",
   "metadata": {},
   "source": [
    "### Lista de consultas que serão realizadas"
   ]
  },
  {
   "cell_type": "code",
   "execution_count": 395,
   "metadata": {},
   "outputs": [],
   "source": [
    "consultas = [\n",
    "    [\"segundo\", \"turno\"],\n",
    "    [\"lava\", \"jato\"],\n",
    "    [\"projeto\", \"de\", \"lei\"],\n",
    "    [\"compra\", \"de\", \"voto\"],\n",
    "    [\"ministério\", \"público\"]\n",
    "]"
   ]
  },
  {
   "cell_type": "markdown",
   "metadata": {},
   "source": [
    "## Documentos retornados\n",
    "\n",
    "Observaremos agora os documentos retornados por cada ranking\n",
    "\n",
    "### Representação binária"
   ]
  },
  {
   "cell_type": "code",
   "execution_count": 398,
   "metadata": {
    "scrolled": true
   },
   "outputs": [
    {
     "name": "stdout",
     "output_type": "stream",
     "text": [
      "['segundo', 'turno'] = [2047, 833, 2754, 2755, 709]\n",
      "['lava', 'jato'] = [2023, 488, 452, 454, 464]\n",
      "['projeto', 'de', 'lei'] = [1023, 4791, 679, 172, 8371]\n",
      "['compra', 'de', 'voto'] = [6783, 7718, 6946, 3234, 5286]\n",
      "['ministério', 'público'] = [8185, 2547, 516, 514, 513]\n"
     ]
    }
   ],
   "source": [
    "for c in consultas:\n",
    "    print(c, \"=\",ranking_binario(c))"
   ]
  },
  {
   "cell_type": "markdown",
   "metadata": {},
   "source": [
    "### TF"
   ]
  },
  {
   "cell_type": "code",
   "execution_count": 399,
   "metadata": {
    "scrolled": true
   },
   "outputs": [
    {
     "name": "stdout",
     "output_type": "stream",
     "text": [
      "['segundo', 'turno'] = [2744, 7, 2112, 7672, 2388]\n",
      "['lava', 'jato'] = [353, 163, 2807, 360, 127]\n",
      "['projeto', 'de', 'lei'] = [7, 3942, 7017, 1250, 6942]\n",
      "['compra', 'de', 'voto'] = [3942, 7017, 5129, 2047, 748]\n",
      "['ministério', 'público'] = [6798, 8018, 6244, 6965, 6550]\n"
     ]
    }
   ],
   "source": [
    "for c in consultas:\n",
    "    print(c, \"=\",ranking_tf(c))"
   ]
  },
  {
   "cell_type": "markdown",
   "metadata": {},
   "source": [
    "### TF-IDF"
   ]
  },
  {
   "cell_type": "code",
   "execution_count": 400,
   "metadata": {},
   "outputs": [
    {
     "name": "stdout",
     "output_type": "stream",
     "text": [
      "['segundo', 'turno'] = [2744, 2112, 7672, 1235, 2388]\n",
      "['lava', 'jato'] = [353, 163, 2807, 127, 876]\n",
      "['projeto', 'de', 'lei'] = [7017, 2853, 7, 2232, 3171]\n",
      "['compra', 'de', 'voto'] = [2047, 7017, 7343, 7293, 5129]\n",
      "['ministério', 'público'] = [6798, 8018, 6244, 6965, 6550]\n"
     ]
    }
   ],
   "source": [
    "for c in consultas:\n",
    "    print(c, \"=\",ranking_tf_idf(c))"
   ]
  },
  {
   "cell_type": "markdown",
   "metadata": {},
   "source": [
    "### BM25"
   ]
  },
  {
   "cell_type": "code",
   "execution_count": 401,
   "metadata": {},
   "outputs": [
    {
     "name": "stdout",
     "output_type": "stream",
     "text": [
      "['segundo', 'turno'] = [2744, 2112, 7672, 2388, 2178]\n",
      "['lava', 'jato'] = [353, 163, 2807, 127, 876]\n",
      "['projeto', 'de', 'lei'] = [2853, 3171, 2232, 6699, 6461]\n",
      "['compra', 'de', 'voto'] = [2200, 2047, 2178, 7343, 7293]\n",
      "['ministério', 'público'] = [6798, 8018, 6244, 6965, 6550]\n"
     ]
    }
   ],
   "source": [
    "for c in consultas:\n",
    "    print(c, \"=\",ranking_BM25(c))"
   ]
  },
  {
   "cell_type": "markdown",
   "metadata": {},
   "source": [
    "## Avaliação\n",
    "\n",
    "Os resultados serão avaliados segundo o gabarito fornecido, que contém os resultados esperados para cada estratégia de busca e também o resultado obtido com a busca google.\n",
    "\n",
    "### Métrica\n",
    "\n",
    "A métrica usada para a avaliação será o **MAP** (Mean Average Precision)."
   ]
  },
  {
   "cell_type": "code",
   "execution_count": 228,
   "metadata": {},
   "outputs": [],
   "source": [
    "gabarito = pd.read_csv('../data/gabarito.csv')"
   ]
  },
  {
   "cell_type": "code",
   "execution_count": 373,
   "metadata": {},
   "outputs": [],
   "source": [
    "# from https://github.com/benhamner/Metrics/blob/master/Python/ml_metrics/average_precision.py\n",
    "\n",
    "def apk(actual, predicted, k=10):\n",
    "    if (len(predicted)>k):\n",
    "        predicted = predicted[:k]\n",
    "        \n",
    "    score = 0.0\n",
    "    num_hits = 0.0\n",
    "\n",
    "    for i,p in enumerate(predicted):\n",
    "        if p in actual and p not in predicted[:i]:\n",
    "            num_hits += 1.0\n",
    "            score += num_hits / (i+1.0)\n",
    "\n",
    "    if (not actual):\n",
    "        return 0.0\n",
    "\n",
    "    return (score / min(len(actual), k))\n",
    "\n",
    "def mapk(actual, predicted, k=10):\n",
    "    return np.mean([apk(a,p,k) for a,p in zip(actual, predicted)])"
   ]
  },
  {
   "cell_type": "markdown",
   "metadata": {},
   "source": [
    "### Busca dos documentos\n",
    "\n",
    "Busca os documentos mais relevantes, segundo cada uma das consultas acima, para as estratégias de recuperação implementadas."
   ]
  },
  {
   "cell_type": "code",
   "execution_count": 468,
   "metadata": {},
   "outputs": [],
   "source": [
    "result_rep_binaria = []\n",
    "result_tf = []\n",
    "result_tf_idf = []\n",
    "result_bm25 = []\n",
    "for query in consultas:\n",
    "    result_rep_binaria.append(ranking_binario(query))\n",
    "    result_tf.append(ranking_tf(query))\n",
    "    result_tf_idf.append(ranking_tf_idf(query))\n",
    "    result_bm25.append(ranking_BM25(query))"
   ]
  },
  {
   "cell_type": "markdown",
   "metadata": {},
   "source": [
    "### Valores do gabarito\n",
    "\n",
    "Recupera os valores esperados das consultas para utilizar na avaliação das mesmas"
   ]
  },
  {
   "cell_type": "code",
   "execution_count": 469,
   "metadata": {},
   "outputs": [],
   "source": [
    "expected_rep_binaria = gabarito[\"busca_binaria\"].tolist()\n",
    "expected_tf = gabarito[\"tf\"].tolist()\n",
    "expected_tf_idf = gabarito[\"tfidf\"].tolist()\n",
    "expected_bm25 = gabarito[\"bm25\"].tolist()\n",
    "expected_google = gabarito[\"google\"].tolist()\n",
    "\n",
    "for l in range(len(expected_rep_binaria)):\n",
    "    expected_rep_binaria[l] = ast.literal_eval(expected_rep_binaria[l])\n",
    "    expected_tf[l] = ast.literal_eval(expected_tf[l])\n",
    "    expected_tf_idf[l] = ast.literal_eval(expected_tf_idf[l])\n",
    "    expected_bm25[l] = ast.literal_eval(expected_bm25[l])\n",
    "    expected_google[l] = ast.literal_eval(expected_google[l])"
   ]
  },
  {
   "cell_type": "markdown",
   "metadata": {},
   "source": [
    "### Avaliação de acordo com gabarito"
   ]
  },
  {
   "cell_type": "code",
   "execution_count": 470,
   "metadata": {},
   "outputs": [
    {
     "name": "stdout",
     "output_type": "stream",
     "text": [
      "Representação Binária: 0.0\n",
      "TF: 0.952\n",
      "TF-IDF: 0.7206666666666667\n",
      "BM25: 0.5713333333333332\n"
     ]
    }
   ],
   "source": [
    "print(\"Representação Binária:\", mapk(expected_rep_binaria, result_rep_binaria, k=5))\n",
    "print(\"TF:\", mapk(expected_tf, result_tf, k=5))\n",
    "print(\"TF-IDF:\", mapk(expected_tf_idf, result_tf_idf, k=5))\n",
    "print(\"BM25:\", mapk(expected_bm25, result_bm25, k=5))"
   ]
  },
  {
   "cell_type": "markdown",
   "metadata": {},
   "source": [
    "### Avaliação de acordo com a busca google"
   ]
  },
  {
   "cell_type": "code",
   "execution_count": 471,
   "metadata": {},
   "outputs": [
    {
     "name": "stdout",
     "output_type": "stream",
     "text": [
      "Representação Binária: 0.0\n",
      "TF: 0.028000000000000004\n",
      "TF-IDF: 0.064\n",
      "BM25: 0.15066666666666667\n"
     ]
    }
   ],
   "source": [
    "print(\"Representação Binária:\", mapk(expected_google, result_rep_binaria, k=5))\n",
    "print(\"TF:\", mapk(expected_google, result_tf, k=5))\n",
    "print(\"TF-IDF:\", mapk(expected_google, result_tf_idf, k=5))\n",
    "print(\"BM25:\", mapk(expected_google, result_bm25, k=5))"
   ]
  },
  {
   "cell_type": "markdown",
   "metadata": {},
   "source": [
    "### Buscando o melhor k para o BM25\n",
    "\n",
    "Abaixo tentaremos identificar o melhor valor para o k do algoritmo BM25, para tal, observaremos o valor da métrica **MAP** para 100 valores de k, entre 1 e 10, variando 0.1 em cada valor."
   ]
  },
  {
   "cell_type": "code",
   "execution_count": 472,
   "metadata": {},
   "outputs": [],
   "source": [
    "bm25_gabarito = []\n",
    "bm25_google = []\n",
    "for k in range(10, 101):\n",
    "    result_bm25 = []\n",
    "    for query in consultas:\n",
    "        result_bm25.append(ranking_BM25(query, k_low = (k/10), k_high = (k/10)+0.5))\n",
    "    bm25_gabarito.append(mapk(expected_bm25, result_bm25, k=5))\n",
    "    bm25_google.append(mapk(expected_google, result_bm25, k=5))"
   ]
  },
  {
   "cell_type": "markdown",
   "metadata": {},
   "source": [
    "A figura abaixo apresenta os da métrica MAP, variando o valor de k, para os dois gabaritos disponíveis.\n",
    "\n",
    "A linha azul representa o map considerando o gabarito comum e a laranja o gabarito da busca google."
   ]
  },
  {
   "cell_type": "code",
   "execution_count": 473,
   "metadata": {},
   "outputs": [
    {
     "data": {
      "text/plain": [
       "[<matplotlib.lines.Line2D at 0x7f53d9aa6550>]"
      ]
     },
     "execution_count": 473,
     "metadata": {},
     "output_type": "execute_result"
    },
    {
     "data": {
      "image/png": "[encoded data removed]",
      "text/plain": [
       "<Figure size 800x640 with 1 Axes>"
      ]
     },
     "metadata": {},
     "output_type": "display_data"
    }
   ],
   "source": [
    "fig=plt.figure(figsize=(10, 8), dpi= 80, facecolor='w', edgecolor='k')\n",
    "\n",
    "df=pd.DataFrame({\"k\" : np.linspace(1, 10, 91), \"gabarito\":bm25_gabarito, \"google\": bm25_google})\n",
    "\n",
    "plt.plot('k', 'gabarito', data=df, marker='', linewidth=2)\n",
    "plt.plot('k', 'google', data=df, marker='', linewidth=2)"
   ]
  },
  {
   "cell_type": "code",
   "execution_count": 454,
   "metadata": {
    "scrolled": false
   },
   "outputs": [
    {
     "data": {
      "text/html": [
       "<div>\n",
       "<style scoped>\n",
       "    .dataframe tbody tr th:only-of-type {\n",
       "        vertical-align: middle;\n",
       "    }\n",
       "\n",
       "    .dataframe tbody tr th {\n",
       "        vertical-align: top;\n",
       "    }\n",
       "\n",
       "    .dataframe thead th {\n",
       "        text-align: right;\n",
       "    }\n",
       "</style>\n",
       "<table border=\"1\" class=\"dataframe\">\n",
       "  <thead>\n",
       "    <tr style=\"text-align: right;\">\n",
       "      <th></th>\n",
       "      <th>k</th>\n",
       "      <th>gabarito</th>\n",
       "      <th>google</th>\n",
       "    </tr>\n",
       "  </thead>\n",
       "  <tbody>\n",
       "    <tr>\n",
       "      <th>9</th>\n",
       "      <td>1.9</td>\n",
       "      <td>0.582000</td>\n",
       "      <td>0.184667</td>\n",
       "    </tr>\n",
       "    <tr>\n",
       "      <th>25</th>\n",
       "      <td>3.5</td>\n",
       "      <td>0.697333</td>\n",
       "      <td>0.180000</td>\n",
       "    </tr>\n",
       "    <tr>\n",
       "      <th>13</th>\n",
       "      <td>2.3</td>\n",
       "      <td>0.711333</td>\n",
       "      <td>0.160000</td>\n",
       "    </tr>\n",
       "    <tr>\n",
       "      <th>17</th>\n",
       "      <td>2.7</td>\n",
       "      <td>0.687333</td>\n",
       "      <td>0.153333</td>\n",
       "    </tr>\n",
       "    <tr>\n",
       "      <th>15</th>\n",
       "      <td>2.5</td>\n",
       "      <td>0.680000</td>\n",
       "      <td>0.150667</td>\n",
       "    </tr>\n",
       "  </tbody>\n",
       "</table>\n",
       "</div>"
      ],
      "text/plain": [
       "      k  gabarito    google\n",
       "9   1.9  0.582000  0.184667\n",
       "25  3.5  0.697333  0.180000\n",
       "13  2.3  0.711333  0.160000\n",
       "17  2.7  0.687333  0.153333\n",
       "15  2.5  0.680000  0.150667"
      ]
     },
     "execution_count": 454,
     "metadata": {},
     "output_type": "execute_result"
    }
   ],
   "source": [
    "df.sort_values(by=['google', 'gabarito'], ascending=False).head()"
   ]
  },
  {
   "cell_type": "markdown",
   "metadata": {},
   "source": [
    "De acordo com os resultados obtidos o valor de k variando uniformemente entre 1.9 e 2.4 apresenta os melhores resultados para o gabarito comum e fica bastante próximo do melhor resultado para o gabarito google.\n",
    "\n",
    "Logo, esse será o intervalo usado para o k."
   ]
  },
  {
   "cell_type": "markdown",
   "metadata": {},
   "source": [
    "## Conclusões\n",
    "\n",
    "O gráfico abaixo apresenta os valores obtidos com a avaliação de cada modelo de recuperação de informação."
   ]
  },
  {
   "cell_type": "code",
   "execution_count": 474,
   "metadata": {},
   "outputs": [
    {
     "data": {
      "text/plain": [
       "[<matplotlib.lines.Line2D at 0x7f53d98df4e0>]"
      ]
     },
     "execution_count": 474,
     "metadata": {},
     "output_type": "execute_result"
    },
    {
     "data": {
      "image/png": "[encoded data removed]",
      "text/plain": [
       "<Figure size 800x640 with 1 Axes>"
      ]
     },
     "metadata": {},
     "output_type": "display_data"
    }
   ],
   "source": [
    "resultados = pd.DataFrame({\"modelo\": [\"Binário\", \"TF\", \"TF-IDF\", \"BM25\"], \n",
    "                           \"gabarito\": [mapk(expected_rep_binaria, result_rep_binaria, k=5),\n",
    "                                        mapk(expected_tf, result_tf, k=5),\n",
    "                                        mapk(expected_tf_idf, result_tf_idf, k=5),\n",
    "                                        mapk(expected_bm25, result_bm25, k=5)],\n",
    "                          \"google\": [mapk(expected_google, result_rep_binaria, k=5),\n",
    "                                     mapk(expected_google, result_tf, k=5),\n",
    "                                     mapk(expected_google, result_tf_idf, k=5),\n",
    "                                     mapk(expected_google, result_bm25, k=5)]})\n",
    "\n",
    "fig=plt.figure(figsize=(10, 8), dpi= 80, facecolor='w', edgecolor='k')\n",
    "plt.plot('modelo', 'gabarito', data=resultados, marker='o', linewidth=2)\n",
    "plt.plot('modelo', 'google', data=resultados, marker='o', linewidth=2)\n",
    "\n"
   ]
  },
  {
   "cell_type": "markdown",
   "metadata": {},
   "source": [
    "Como esperado, a representação binária tem o pior desempenho de todos.\n",
    "\n",
    "É surpendente com o TF obteve um bom resultado com o gabarito comum, ainda que os outros dois tenham tido um bom resultado nesse mesmo gabarito.\n",
    "\n",
    "Quanto ao gabarito google o comportamento se dá como esperado, quanto mais refinado é o modelo de recuperação da informação, melhor é o ranking gerado, mesmo que com valores baixos."
   ]
  }
 ],
 "metadata": {
  "kernelspec": {
   "display_name": "Python 3",
   "language": "python",
   "name": "python3"
  },
  "language_info": {
   "codemirror_mode": {
    "name": "ipython",
    "version": 3
   },
   "file_extension": ".py",
   "mimetype": "text/x-python",
   "name": "python",
   "nbconvert_exporter": "python",
   "pygments_lexer": "ipython3",
   "version": "3.6.5"
  }
 },
 "nbformat": 4,
 "nbformat_minor": 2
}
