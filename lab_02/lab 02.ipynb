{
 "cells": [
  {
   "cell_type": "code",
   "execution_count": 74,
   "metadata": {
    "scrolled": false
   },
   "outputs": [],
   "source": [
    "import pandas as pd\n",
    "import numpy as np\n",
    "import nltk\n",
    "import re\n",
    "from textblob import TextBlob\n",
    "from gensim import corpora, models, similarities"
   ]
  },
  {
   "cell_type": "code",
   "execution_count": 75,
   "metadata": {},
   "outputs": [],
   "source": [
    "dados = pd.read_csv('../lab_01/data/estadao_noticias_eleicao.csv')\n",
    "dados = dados.replace(np.nan, '', regex=True)"
   ]
  },
  {
   "cell_type": "code",
   "execution_count": 76,
   "metadata": {},
   "outputs": [
    {
     "data": {
      "text/html": [
       "<div>\n",
       "<style scoped>\n",
       "    .dataframe tbody tr th:only-of-type {\n",
       "        vertical-align: middle;\n",
       "    }\n",
       "\n",
       "    .dataframe tbody tr th {\n",
       "        vertical-align: top;\n",
       "    }\n",
       "\n",
       "    .dataframe thead th {\n",
       "        text-align: right;\n",
       "    }\n",
       "</style>\n",
       "<table border=\"1\" class=\"dataframe\">\n",
       "  <thead>\n",
       "    <tr style=\"text-align: right;\">\n",
       "      <th></th>\n",
       "      <th>timestamp</th>\n",
       "      <th>titulo</th>\n",
       "      <th>subTitulo</th>\n",
       "      <th>conteudo</th>\n",
       "      <th>url</th>\n",
       "      <th>idNoticia</th>\n",
       "    </tr>\n",
       "  </thead>\n",
       "  <tbody>\n",
       "    <tr>\n",
       "      <th>0</th>\n",
       "      <td>2014-12-31T00:00:00Z</td>\n",
       "      <td>PT espera 30 mil pessoas em festa na Esplanada</td>\n",
       "      <td>Objetivo é demonstrar apoio popular a Dilma e ...</td>\n",
       "      <td>BRASÍLIA - Após o desgaste provocado com o lan...</td>\n",
       "      <td>http://politica.estadao.com.br/noticias/geral,...</td>\n",
       "      <td>1</td>\n",
       "    </tr>\n",
       "    <tr>\n",
       "      <th>1</th>\n",
       "      <td>2014-12-31T00:00:00Z</td>\n",
       "      <td>Alckmin toma posse de olho no Planalto</td>\n",
       "      <td>Governador reeleito tenta amarrar tucanos paul...</td>\n",
       "      <td>Reeleito em outubro, o governador tucano Geral...</td>\n",
       "      <td>http://politica.estadao.com.br/noticias/geral,...</td>\n",
       "      <td>2</td>\n",
       "    </tr>\n",
       "    <tr>\n",
       "      <th>2</th>\n",
       "      <td>2014-12-31T00:00:00Z</td>\n",
       "      <td>Seis obstáculos e desafios do segundo mandato ...</td>\n",
       "      <td>Em meio a escândalo de corrupção, presidente t...</td>\n",
       "      <td>1. Rearranjo das contas A nova equipe econôm...</td>\n",
       "      <td>http://politica.estadao.com.br/noticias/geral,...</td>\n",
       "      <td>3</td>\n",
       "    </tr>\n",
       "    <tr>\n",
       "      <th>3</th>\n",
       "      <td>2014-12-31T00:00:00Z</td>\n",
       "      <td></td>\n",
       "      <td>Veja as principais fotos do dia e dos eventos ...</td>\n",
       "      <td></td>\n",
       "      <td>http://fotos.estadao.com.br/fotos/politica,dil...</td>\n",
       "      <td>4</td>\n",
       "    </tr>\n",
       "    <tr>\n",
       "      <th>4</th>\n",
       "      <td>2014-12-31T00:00:00Z</td>\n",
       "      <td></td>\n",
       "      <td>Veja as principais fotos do dia e dos eventos ...</td>\n",
       "      <td></td>\n",
       "      <td>http://fotos.estadao.com.br/fotos/politica,dil...</td>\n",
       "      <td>5</td>\n",
       "    </tr>\n",
       "  </tbody>\n",
       "</table>\n",
       "</div>"
      ],
      "text/plain": [
       "              timestamp                                             titulo  \\\n",
       "0  2014-12-31T00:00:00Z     PT espera 30 mil pessoas em festa na Esplanada   \n",
       "1  2014-12-31T00:00:00Z             Alckmin toma posse de olho no Planalto   \n",
       "2  2014-12-31T00:00:00Z  Seis obstáculos e desafios do segundo mandato ...   \n",
       "3  2014-12-31T00:00:00Z                                                      \n",
       "4  2014-12-31T00:00:00Z                                                      \n",
       "\n",
       "                                           subTitulo  \\\n",
       "0  Objetivo é demonstrar apoio popular a Dilma e ...   \n",
       "1  Governador reeleito tenta amarrar tucanos paul...   \n",
       "2  Em meio a escândalo de corrupção, presidente t...   \n",
       "3  Veja as principais fotos do dia e dos eventos ...   \n",
       "4  Veja as principais fotos do dia e dos eventos ...   \n",
       "\n",
       "                                            conteudo  \\\n",
       "0  BRASÍLIA - Após o desgaste provocado com o lan...   \n",
       "1  Reeleito em outubro, o governador tucano Geral...   \n",
       "2    1. Rearranjo das contas A nova equipe econôm...   \n",
       "3                                                      \n",
       "4                                                      \n",
       "\n",
       "                                                 url  idNoticia  \n",
       "0  http://politica.estadao.com.br/noticias/geral,...          1  \n",
       "1  http://politica.estadao.com.br/noticias/geral,...          2  \n",
       "2  http://politica.estadao.com.br/noticias/geral,...          3  \n",
       "3  http://fotos.estadao.com.br/fotos/politica,dil...          4  \n",
       "4  http://fotos.estadao.com.br/fotos/politica,dil...          5  "
      ]
     },
     "execution_count": 76,
     "metadata": {},
     "output_type": "execute_result"
    }
   ],
   "source": [
    "dados.head()"
   ]
  },
  {
   "cell_type": "code",
   "execution_count": 77,
   "metadata": {},
   "outputs": [
    {
     "name": "stdout",
     "output_type": "stream",
     "text": [
      "Os dados tem 8716 observações e 6 colunas\n"
     ]
    }
   ],
   "source": [
    "print(\"Os dados tem %d observações e %d colunas\" % dados.shape)"
   ]
  },
  {
   "cell_type": "code",
   "execution_count": 78,
   "metadata": {},
   "outputs": [],
   "source": [
    "dados[\"text\"] = dados[\"titulo\"] + \" \" + dados[\"subTitulo\"] + \" \" + dados[\"conteudo\"]"
   ]
  },
  {
   "cell_type": "code",
   "execution_count": 79,
   "metadata": {
    "scrolled": true
   },
   "outputs": [
    {
     "data": {
      "text/html": [
       "<div>\n",
       "<style scoped>\n",
       "    .dataframe tbody tr th:only-of-type {\n",
       "        vertical-align: middle;\n",
       "    }\n",
       "\n",
       "    .dataframe tbody tr th {\n",
       "        vertical-align: top;\n",
       "    }\n",
       "\n",
       "    .dataframe thead th {\n",
       "        text-align: right;\n",
       "    }\n",
       "</style>\n",
       "<table border=\"1\" class=\"dataframe\">\n",
       "  <thead>\n",
       "    <tr style=\"text-align: right;\">\n",
       "      <th></th>\n",
       "      <th>timestamp</th>\n",
       "      <th>titulo</th>\n",
       "      <th>subTitulo</th>\n",
       "      <th>conteudo</th>\n",
       "      <th>url</th>\n",
       "      <th>idNoticia</th>\n",
       "      <th>text</th>\n",
       "    </tr>\n",
       "  </thead>\n",
       "  <tbody>\n",
       "    <tr>\n",
       "      <th>0</th>\n",
       "      <td>2014-12-31T00:00:00Z</td>\n",
       "      <td>PT espera 30 mil pessoas em festa na Esplanada</td>\n",
       "      <td>Objetivo é demonstrar apoio popular a Dilma e ...</td>\n",
       "      <td>BRASÍLIA - Após o desgaste provocado com o lan...</td>\n",
       "      <td>http://politica.estadao.com.br/noticias/geral,...</td>\n",
       "      <td>1</td>\n",
       "      <td>PT espera 30 mil pessoas em festa na Esplanada...</td>\n",
       "    </tr>\n",
       "    <tr>\n",
       "      <th>1</th>\n",
       "      <td>2014-12-31T00:00:00Z</td>\n",
       "      <td>Alckmin toma posse de olho no Planalto</td>\n",
       "      <td>Governador reeleito tenta amarrar tucanos paul...</td>\n",
       "      <td>Reeleito em outubro, o governador tucano Geral...</td>\n",
       "      <td>http://politica.estadao.com.br/noticias/geral,...</td>\n",
       "      <td>2</td>\n",
       "      <td>Alckmin toma posse de olho no Planalto Governa...</td>\n",
       "    </tr>\n",
       "    <tr>\n",
       "      <th>2</th>\n",
       "      <td>2014-12-31T00:00:00Z</td>\n",
       "      <td>Seis obstáculos e desafios do segundo mandato ...</td>\n",
       "      <td>Em meio a escândalo de corrupção, presidente t...</td>\n",
       "      <td>1. Rearranjo das contas A nova equipe econôm...</td>\n",
       "      <td>http://politica.estadao.com.br/noticias/geral,...</td>\n",
       "      <td>3</td>\n",
       "      <td>Seis obstáculos e desafios do segundo mandato ...</td>\n",
       "    </tr>\n",
       "    <tr>\n",
       "      <th>3</th>\n",
       "      <td>2014-12-31T00:00:00Z</td>\n",
       "      <td></td>\n",
       "      <td>Veja as principais fotos do dia e dos eventos ...</td>\n",
       "      <td></td>\n",
       "      <td>http://fotos.estadao.com.br/fotos/politica,dil...</td>\n",
       "      <td>4</td>\n",
       "      <td>Veja as principais fotos do dia e dos eventos...</td>\n",
       "    </tr>\n",
       "    <tr>\n",
       "      <th>4</th>\n",
       "      <td>2014-12-31T00:00:00Z</td>\n",
       "      <td></td>\n",
       "      <td>Veja as principais fotos do dia e dos eventos ...</td>\n",
       "      <td></td>\n",
       "      <td>http://fotos.estadao.com.br/fotos/politica,dil...</td>\n",
       "      <td>5</td>\n",
       "      <td>Veja as principais fotos do dia e dos eventos...</td>\n",
       "    </tr>\n",
       "  </tbody>\n",
       "</table>\n",
       "</div>"
      ],
      "text/plain": [
       "              timestamp                                             titulo  \\\n",
       "0  2014-12-31T00:00:00Z     PT espera 30 mil pessoas em festa na Esplanada   \n",
       "1  2014-12-31T00:00:00Z             Alckmin toma posse de olho no Planalto   \n",
       "2  2014-12-31T00:00:00Z  Seis obstáculos e desafios do segundo mandato ...   \n",
       "3  2014-12-31T00:00:00Z                                                      \n",
       "4  2014-12-31T00:00:00Z                                                      \n",
       "\n",
       "                                           subTitulo  \\\n",
       "0  Objetivo é demonstrar apoio popular a Dilma e ...   \n",
       "1  Governador reeleito tenta amarrar tucanos paul...   \n",
       "2  Em meio a escândalo de corrupção, presidente t...   \n",
       "3  Veja as principais fotos do dia e dos eventos ...   \n",
       "4  Veja as principais fotos do dia e dos eventos ...   \n",
       "\n",
       "                                            conteudo  \\\n",
       "0  BRASÍLIA - Após o desgaste provocado com o lan...   \n",
       "1  Reeleito em outubro, o governador tucano Geral...   \n",
       "2    1. Rearranjo das contas A nova equipe econôm...   \n",
       "3                                                      \n",
       "4                                                      \n",
       "\n",
       "                                                 url  idNoticia  \\\n",
       "0  http://politica.estadao.com.br/noticias/geral,...          1   \n",
       "1  http://politica.estadao.com.br/noticias/geral,...          2   \n",
       "2  http://politica.estadao.com.br/noticias/geral,...          3   \n",
       "3  http://fotos.estadao.com.br/fotos/politica,dil...          4   \n",
       "4  http://fotos.estadao.com.br/fotos/politica,dil...          5   \n",
       "\n",
       "                                                text  \n",
       "0  PT espera 30 mil pessoas em festa na Esplanada...  \n",
       "1  Alckmin toma posse de olho no Planalto Governa...  \n",
       "2  Seis obstáculos e desafios do segundo mandato ...  \n",
       "3   Veja as principais fotos do dia e dos eventos...  \n",
       "4   Veja as principais fotos do dia e dos eventos...  "
      ]
     },
     "execution_count": 79,
     "metadata": {},
     "output_type": "execute_result"
    }
   ],
   "source": [
    "dados.head()"
   ]
  },
  {
   "cell_type": "code",
   "execution_count": 80,
   "metadata": {},
   "outputs": [],
   "source": [
    "def remove_stopwords (text):\n",
    "    stopwords = set(nltk.corpus.stopwords.words('portuguese'))\n",
    "    words = [i for i in text.split() if not i in stopwords]\n",
    "    return (\" \".join(words))\n",
    "\n",
    "def keep_letters_only(text):\n",
    "    return re.sub(r'[0-9]+', \" \", text)\n",
    "\n",
    "def standardize_text(text):\n",
    "    text = text.lower()\n",
    "    text = remove_stopwords(text)\n",
    "    text = keep_letters_only(text)\n",
    "    return text\n",
    "\n",
    "dados.text = dados.text.apply(standardize_text)"
   ]
  },
  {
   "cell_type": "code",
   "execution_count": 81,
   "metadata": {},
   "outputs": [
    {
     "data": {
      "text/plain": [
       "0    pt espera   mil pessoas festa esplanada objeti...\n",
       "1    alckmin toma posse olho planalto governador re...\n",
       "2    seis obstáculos desafios segundo mandato dilma...\n",
       "3    veja principais fotos dia eventos especiais br...\n",
       "4    veja principais fotos dia eventos especiais br...\n",
       "Name: text, dtype: object"
      ]
     },
     "execution_count": 81,
     "metadata": {},
     "output_type": "execute_result"
    }
   ],
   "source": [
    "dados.head()[\"text\"]"
   ]
  },
  {
   "cell_type": "code",
   "execution_count": 82,
   "metadata": {},
   "outputs": [],
   "source": [
    "def get_palavras(data):\n",
    "    palavras = []\n",
    "    for index, row in data.iterrows():\n",
    "        row[\"text\"] = row[\"text\"].lower()\n",
    "        palavras_doc = TextBlob(row[\"text\"]).words\n",
    "        palavras.append(palavras_doc)\n",
    "    return palavras"
   ]
  },
  {
   "cell_type": "code",
   "execution_count": 83,
   "metadata": {},
   "outputs": [],
   "source": [
    "texts = get_palavras(dados)"
   ]
  },
  {
   "cell_type": "code",
   "execution_count": 84,
   "metadata": {},
   "outputs": [],
   "source": [
    "# remove words that appear less then 10 times\n",
    "from collections import defaultdict\n",
    "frequency = defaultdict(int)\n",
    "for text in texts:\n",
    "    for token in text:\n",
    "        frequency[token] += 1\n",
    "texts = [[token for token in text if frequency[token] > 10] for text in texts]"
   ]
  },
  {
   "cell_type": "code",
   "execution_count": 85,
   "metadata": {},
   "outputs": [
    {
     "name": "stdout",
     "output_type": "stream",
     "text": [
      "Dictionary(14245 unique tokens: ['a', 'abrigo', 'adversários', 'advogado', 'afirma']...)\n"
     ]
    }
   ],
   "source": [
    "dictionary = corpora.Dictionary(texts)\n",
    "print(dictionary)"
   ]
  },
  {
   "cell_type": "code",
   "execution_count": 86,
   "metadata": {},
   "outputs": [],
   "source": [
    "corpus = [dictionary.doc2bow(text) for text in texts]"
   ]
  },
  {
   "cell_type": "code",
   "execution_count": 87,
   "metadata": {},
   "outputs": [],
   "source": [
    "lsi = models.LsiModel(corpus, id2word=dictionary, num_topics=1000)"
   ]
  },
  {
   "cell_type": "code",
   "execution_count": 88,
   "metadata": {},
   "outputs": [
    {
     "name": "stderr",
     "output_type": "stream",
     "text": [
      "/usr/local/lib/python3.6/dist-packages/gensim/matutils.py:737: FutureWarning: Conversion of the second argument of issubdtype from `int` to `np.signedinteger` is deprecated. In future, it will be treated as `np.int64 == np.dtype(int).type`.\n",
      "  if np.issubdtype(vec.dtype, np.int):\n"
     ]
    }
   ],
   "source": [
    "index = similarities.MatrixSimilarity(lsi[corpus]) # transform corpus to LSI space and index it"
   ]
  },
  {
   "cell_type": "code",
   "execution_count": 89,
   "metadata": {},
   "outputs": [],
   "source": [
    "doc = \"petrobrás\"\n",
    "vec_bow = dictionary.doc2bow(doc.lower().split())\n",
    "vec_lsi = lsi[vec_bow] # convert the query to LSI space\n",
    "# print(vec_lsi)"
   ]
  },
  {
   "cell_type": "code",
   "execution_count": 90,
   "metadata": {},
   "outputs": [
    {
     "name": "stdout",
     "output_type": "stream",
     "text": [
      "[(6592, 0.5940671), (2339, 0.49798048), (6764, 0.4927531)]\n"
     ]
    }
   ],
   "source": [
    "sims = index[vec_lsi]\n",
    "sims = sorted(enumerate(sims), key=lambda item: -item[1]) # perform a similarity query against the corpus\n",
    "print(sims[0:3])"
   ]
  },
  {
   "cell_type": "code",
   "execution_count": 91,
   "metadata": {
    "scrolled": false
   },
   "outputs": [
    {
     "name": "stdout",
     "output_type": "stream",
     "text": [
      "recife\n",
      "intuito\n",
      "dirigida\n"
     ]
    }
   ],
   "source": [
    "for i in range(0,3):\n",
    "    print(dictionary[sims[i][0]])"
   ]
  },
  {
   "cell_type": "code",
   "execution_count": 92,
   "metadata": {},
   "outputs": [],
   "source": [
    "def busca_palavras_similares(palavra):\n",
    "    vec_bow = dictionary.doc2bow(palavra.lower().split())\n",
    "    vec_lsi = lsi[vec_bow] # convert the query to LSI space\n",
    "    sims = index[vec_lsi]\n",
    "    sims = sorted(enumerate(sims), key=lambda item: -item[1]) # perform a similarity query against the corpus\n",
    "    \n",
    "    return [dictionary[sims[0][0]], dictionary[sims[1][0]], dictionary[sims[2][0]]]\n",
    "    "
   ]
  },
  {
   "cell_type": "code",
   "execution_count": 93,
   "metadata": {},
   "outputs": [
    {
     "name": "stdout",
     "output_type": "stream",
     "text": [
      "['sbm', 'avaliação', 'sério']\n"
     ]
    }
   ],
   "source": [
    "print(busca_palavras_similares(\"estado\"))"
   ]
  },
  {
   "cell_type": "markdown",
   "metadata": {},
   "source": [
    "## Realizando Buscas"
   ]
  },
  {
   "cell_type": "code",
   "execution_count": 94,
   "metadata": {},
   "outputs": [],
   "source": [
    "def calcula_indices_invertidos(data):\n",
    "    indices = {}\n",
    "    for index, row in data.iterrows():\n",
    "        palavras = TextBlob(row[\"text\"]).words\n",
    "        \n",
    "        for palavra in palavras:\n",
    "            palavra_low = palavra.lower()\n",
    "            if(palavra_low in indices):\n",
    "                indices[palavra_low].add(row[\"idNoticia\"])\n",
    "            else:\n",
    "                indices[palavra_low] = {row[\"idNoticia\"]}\n",
    "                \n",
    "    return(indices)\n",
    "\n",
    "indices_invertidos = calcula_indices_invertidos(dados)"
   ]
  },
  {
   "cell_type": "code",
   "execution_count": 95,
   "metadata": {},
   "outputs": [],
   "source": [
    "def busca_um_termo(termo):\n",
    "    try:\n",
    "        return(indices_invertidos[termo])\n",
    "    except KeyError:\n",
    "        return(set())\n",
    "\n",
    "def busca_or(termo1, termo2, termo3, termo4):\n",
    "    try:\n",
    "        busca1 = indices_invertidos[termo1]\n",
    "    except KeyError:\n",
    "        busca1 = set()\n",
    "        \n",
    "    try:\n",
    "        busca2 = indices_invertidos[termo2]\n",
    "    except KeyError:\n",
    "        busca2 = set()\n",
    "        \n",
    "    try:\n",
    "        busca3 = indices_invertidos[termo3]\n",
    "    except KeyError:\n",
    "        busca3 = set()\n",
    "    \n",
    "    try:\n",
    "        busca4 = indices_invertidos[termo4]\n",
    "    except KeyError:\n",
    "        busca4 = set()\n",
    "        \n",
    "    return(busca1 | busca2 | busca3 | busca4)"
   ]
  },
  {
   "cell_type": "code",
   "execution_count": 96,
   "metadata": {},
   "outputs": [],
   "source": [
    "def busca(*args):\n",
    "    if (len(args) != 4 and len(args) != 1):\n",
    "        return(\"Número inválido de argumentos\")\n",
    "    elif(len(args) == 1):\n",
    "        termo = args[0].lower()\n",
    "        return(busca_um_termo(termo))\n",
    "    elif(len(args) == 4):\n",
    "        termo1 = args[0].lower()\n",
    "        termo2 = args[1].lower()\n",
    "        termo3 = args[2].lower()\n",
    "        termo4 = args[3].lower()\n",
    "        return(busca_or(termo1, termo2, termo3, termo4))"
   ]
  },
  {
   "cell_type": "code",
   "execution_count": 108,
   "metadata": {},
   "outputs": [],
   "source": [
    "def busca_word2vec(palavra):\n",
    "    print(\"A busca pelo termo %s apenas retorna:\" % palavra)\n",
    "    result_busca_palavra = busca(palavra)\n",
    "    print(\"%d resultados, que são os documentos:\" % len(result_busca_palavra))\n",
    "    print(result_busca_palavra)\n",
    "    t1, t2, t3 = busca_palavras_similares(palavra)\n",
    "    print(\"Usando o modelo word2vec a consulta é extendida para os termos %s, %s e %s\" % (t1, t2, t3))\n",
    "    result_busca_extendida = busca(palavra, t1, t2, t3)\n",
    "    print(\"Resultando nos seguintes %d documentos:\" % len(result_busca_extendida))\n",
    "    print(result_busca_extendida)\n",
    "    print(\"Foram adicionados %d documentos ao retorno da consulta\" % (len(result_busca_extendida) - len(result_busca_palavra)))"
   ]
  },
  {
   "cell_type": "code",
   "execution_count": 109,
   "metadata": {},
   "outputs": [
    {
     "name": "stdout",
     "output_type": "stream",
     "text": [
      "A busca pelo termo brasil apenas retorna:\n",
      "3223 resultados, que são os documentos:\n",
      "{4, 5, 6, 7, 8, 8196, 10, 12, 13, 14, 15, 16, 8205, 18, 8208, 20, 8209, 8210, 23, 8213, 8214, 8217, 27, 28, 8221, 31, 32, 35, 37, 38, 8229, 41, 42, 43, 44, 8233, 46, 8236, 48, 8238, 50, 8240, 8241, 8242, 8245, 8246, 8247, 8248, 8249, 8253, 8254, 63, 8255, 65, 66, 67, 70, 72, 74, 76, 77, 8272, 84, 86, 8286, 95, 8287, 97, 8292, 101, 102, 107, 108, 8299, 8300, 8301, 8302, 8303, 114, 115, 8304, 117, 118, 8306, 8312, 121, 8313, 123, 8318, 128, 130, 133, 135, 136, 8328, 138, 140, 141, 143, 144, 8335, 8336, 147, 8338, 8339, 150, 8343, 152, 153, 155, 157, 8350, 8354, 163, 167, 168, 8361, 8362, 173, 174, 175, 176, 177, 8370, 8371, 8372, 184, 8376, 186, 8380, 189, 191, 192, 8385, 8386, 8387, 196, 8391, 200, 8393, 202, 203, 204, 205, 8397, 207, 8399, 8402, 211, 214, 8408, 218, 222, 224, 225, 226, 227, 8416, 230, 231, 8422, 233, 8428, 8429, 238, 8430, 240, 244, 8437, 246, 247, 248, 8442, 253, 254, 255, 256, 8450, 259, 263, 264, 8456, 266, 267, 8460, 271, 8463, 273, 8467, 8469, 8470, 8472, 282, 8474, 8478, 290, 8484, 8485, 295, 8487, 300, 8493, 304, 8497, 307, 312, 313, 8505, 8506, 317, 324, 325, 8516, 328, 329, 330, 331, 8522, 8524, 337, 338, 8531, 340, 341, 342, 344, 345, 8538, 349, 350, 8543, 353, 356, 8549, 363, 364, 365, 366, 367, 8556, 8558, 374, 375, 380, 385, 8578, 387, 8579, 8581, 8582, 8587, 8588, 8589, 399, 400, 8592, 402, 8593, 404, 8594, 8595, 8597, 408, 409, 410, 411, 412, 8601, 8602, 8603, 8609, 8617, 426, 428, 429, 8622, 431, 8623, 434, 8626, 8629, 8632, 448, 8641, 450, 453, 454, 455, 456, 457, 8653, 8654, 8656, 469, 8666, 475, 8670, 8671, 480, 483, 484, 8676, 8678, 487, 488, 489, 490, 8679, 8682, 8683, 8685, 495, 8686, 8687, 8688, 8689, 8690, 501, 502, 8691, 8693, 8694, 506, 8697, 508, 8698, 8699, 8703, 512, 513, 514, 515, 516, 8704, 8708, 519, 8712, 522, 8714, 8715, 8716, 526, 530, 534, 544, 549, 552, 558, 559, 561, 565, 568, 569, 572, 573, 574, 578, 581, 586, 587, 588, 591, 593, 594, 596, 598, 602, 603, 606, 611, 612, 614, 617, 620, 626, 636, 644, 645, 648, 649, 655, 659, 661, 663, 664, 677, 681, 683, 690, 691, 693, 698, 700, 702, 706, 707, 708, 709, 712, 715, 718, 719, 720, 722, 725, 731, 734, 745, 748, 753, 754, 758, 759, 762, 763, 770, 771, 772, 774, 775, 776, 780, 782, 783, 785, 786, 793, 794, 797, 808, 812, 813, 815, 820, 822, 824, 825, 828, 831, 835, 838, 840, 845, 846, 847, 849, 850, 851, 853, 861, 864, 865, 866, 867, 869, 870, 871, 874, 875, 882, 886, 890, 894, 895, 899, 905, 906, 907, 909, 927, 928, 930, 932, 935, 940, 941, 946, 947, 953, 958, 963, 964, 968, 969, 970, 971, 973, 974, 975, 979, 980, 981, 983, 985, 986, 987, 996, 1002, 1005, 1007, 1008, 1009, 1014, 1015, 1016, 1017, 1019, 1020, 1021, 1022, 1023, 1025, 1028, 1029, 1030, 1033, 1035, 1038, 1039, 1042, 1044, 1045, 1062, 1066, 1067, 1071, 1072, 1074, 1075, 1076, 1079, 1080, 1081, 1082, 1087, 1090, 1092, 1095, 1098, 1099, 1101, 1102, 1106, 1107, 1108, 1110, 1111, 1112, 1114, 1118, 1123, 1124, 1142, 1144, 1152, 1158, 1161, 1163, 1164, 1166, 1167, 1171, 1174, 1179, 1180, 1183, 1185, 1192, 1197, 1199, 1200, 1201, 1202, 1203, 1205, 1208, 1217, 1220, 1226, 1227, 1228, 1233, 1234, 1235, 1237, 1238, 1239, 1241, 1242, 1244, 1246, 1248, 1250, 1251, 1254, 1256, 1265, 1268, 1270, 1273, 1275, 1276, 1279, 1283, 1284, 1287, 1298, 1300, 1304, 1306, 1308, 1309, 1310, 1314, 1326, 1327, 1328, 1330, 1335, 1336, 1339, 1340, 1344, 1347, 1348, 1351, 1352, 1353, 1354, 1355, 1356, 1359, 1361, 1362, 1364, 1365, 1368, 1370, 1374, 1378, 1379, 1380, 1383, 1384, 1386, 1388, 1391, 1393, 1394, 1397, 1398, 1402, 1405, 1406, 1407, 1416, 1417, 1418, 1419, 1422, 1423, 1424, 1427, 1432, 1437, 1438, 1439, 1440, 1441, 1458, 1459, 1461, 1462, 1463, 1465, 1471, 1477, 1485, 1486, 1489, 1491, 1495, 1498, 1501, 1502, 1503, 1504, 1505, 1507, 1510, 1515, 1519, 1524, 1525, 1529, 1531, 1532, 1533, 1534, 1537, 1539, 1540, 1541, 1542, 1543, 1547, 1551, 1554, 1561, 1568, 1579, 1586, 1588, 1589, 1599, 1600, 1601, 1604, 1612, 1613, 1614, 1617, 1621, 1623, 1624, 1626, 1627, 1630, 1637, 1638, 1641, 1642, 1651, 1652, 1653, 1654, 1655, 1656, 1657, 1660, 1661, 1663, 1664, 1667, 1668, 1677, 1680, 1681, 1684, 1689, 1690, 1691, 1692, 1697, 1699, 1701, 1702, 1707, 1711, 1713, 1716, 1724, 1725, 1728, 1731, 1732, 1742, 1744, 1745, 1746, 1748, 1756, 1757, 1758, 1761, 1770, 1782, 1783, 1784, 1787, 1792, 1795, 1797, 1799, 1801, 1802, 1806, 1807, 1809, 1810, 1811, 1815, 1816, 1820, 1824, 1830, 1832, 1834, 1840, 1842, 1847, 1848, 1855, 1857, 1858, 1859, 1861, 1864, 1865, 1866, 1872, 1875, 1876, 1883, 1886, 1891, 1896, 1897, 1900, 1911, 1913, 1914, 1918, 1919, 1920, 1938, 1941, 1942, 1945, 1946, 1950, 1951, 1953, 1956, 1958, 1965, 1968, 1969, 1970, 1971, 1972, 1978, 1979, 1980, 1981, 1982, 1989, 1990, 1996, 1997, 2000, 2001, 2003, 2007, 2008, 2012, 2013, 2018, 2019, 2020, 2021, 2024, 2025, 2027, 2031, 2033, 2037, 2039, 2042, 2043, 2046, 2047, 2048, 2049, 2065, 2068, 2070, 2072, 2077, 2085, 2087, 2088, 2110, 2114, 2115, 2119, 2120, 2121, 2123, 2124, 2125, 2126, 2127, 2128, 2139, 2142, 2143, 2157, 2167, 2169, 2170, 2171, 2172, 2185, 2186, 2189, 2192, 2195, 2196, 2199, 2201, 2202, 2203, 2204, 2205, 2206, 2207, 2208, 2211, 2212, 2213, 2214, 2215, 2216, 2217, 2218, 2219, 2220, 2221, 2222, 2223, 2224, 2225, 2226, 2228, 2229, 2230, 2238, 2240, 2242, 2244, 2245, 2246, 2249, 2252, 2253, 2254, 2256, 2262, 2266, 2267, 2269, 2270, 2273, 2276, 2280, 2282, 2283, 2284, 2287, 2288, 2289, 2294, 2298, 2299, 2303, 2305, 2313, 2316, 2317, 2321, 2323, 2324, 2325, 2328, 2335, 2344, 2349, 2355, 2357, 2359, 2360, 2361, 2362, 2365, 2368, 2385, 2387, 2392, 2403, 2406, 2413, 2415, 2421, 2426, 2429, 2432, 2437, 2438, 2440, 2443, 2445, 2448, 2451, 2455, 2457, 2458, 2459, 2461, 2462, 2463, 2468, 2469, 2475, 2476, 2485, 2487, 2491, 2496, 2497, 2498, 2501, 2503, 2504, 2505, 2506, 2507, 2508, 2512, 2513, 2514, 2515, 2516, 2517, 2518, 2520, 2521, 2522, 2528, 2529, 2530, 2532, 2535, 2536, 2537, 2538, 2539, 2557, 2562, 2565, 2567, 2571, 2572, 2573, 2574, 2575, 2576, 2578, 2581, 2582, 2584, 2585, 2586, 2587, 2590, 2591, 2592, 2593, 2594, 2595, 2596, 2598, 2602, 2603, 2611, 2612, 2618, 2619, 2621, 2622, 2623, 2625, 2627, 2628, 2629, 2631, 2632, 2633, 2636, 2637, 2638, 2648, 2654, 2659, 2660, 2662, 2663, 2665, 2668, 2670, 2671, 2673, 2675, 2683, 2685, 2688, 2690, 2692, 2693, 2695, 2701, 2706, 2707, 2708, 2711, 2712, 2714, 2717, 2718, 2720, 2723, 2724, 2727, 2728, 2731, 2734, 2735, 2740, 2741, 2742, 2750, 2754, 2755, 2756, 2757, 2758, 2759, 2760, 2763, 2766, 2767, 2773, 2779, 2782, 2784, 2787, 2790, 2791, 2796, 2798, 2799, 2801, 2802, 2803, 2804, 2807, 2808, 2809, 2810, 2812, 2813, 2817, 2819, 2821, 2825, 2826, 2833, 2841, 2842, 2844, 2847, 2850, 2853, 2855, 2856, 2858, 2867, 2870, 2871, 2872, 2874, 2876, 2878, 2881, 2882, 2884, 2885, 2887, 2890, 2892, 2894, 2897, 2900, 2907, 2908, 2909, 2910, 2914, 2918, 2921, 2930, 2938, 2939, 2942, 2963, 2965, 2966, 2967, 2971, 2973, 2976, 2978, 2980, 2981, 2982, 2983, 2985, 2986, 2991, 2992, 2993, 2994, 2995, 2997, 3000, 3002, 3006, 3010, 3012, 3013, 3014, 3015, 3020, 3024, 3025, 3027, 3028, 3030, 3037, 3038, 3039, 3040, 3042, 3046, 3047, 3048, 3051, 3052, 3053, 3057, 3063, 3064, 3065, 3066, 3067, 3072, 3073, 3075, 3076, 3077, 3085, 3086, 3088, 3090, 3091, 3092, 3103, 3106, 3109, 3110, 3122, 3125, 3128, 3129, 3131, 3137, 3141, 3142, 3145, 3147, 3149, 3159, 3162, 3163, 3164, 3165, 3166, 3169, 3173, 3176, 3177, 3178, 3179, 3180, 3181, 3184, 3187, 3188, 3192, 3193, 3195, 3197, 3199, 3201, 3202, 3207, 3208, 3209, 3210, 3212, 3222, 3225, 3227, 3228, 3230, 3232, 3234, 3236, 3243, 3244, 3249, 3250, 3255, 3256, 3257, 3259, 3262, 3274, 3275, 3277, 3278, 3279, 3280, 3282, 3286, 3287, 3290, 3292, 3293, 3294, 3295, 3297, 3299, 3302, 3305, 3306, 3309, 3312, 3313, 3314, 3316, 3317, 3318, 3320, 3321, 3324, 3327, 3330, 3333, 3335, 3336, 3338, 3339, 3340, 3349, 3350, 3352, 3354, 3358, 3359, 3360, 3361, 3364, 3365, 3366, 3367, 3368, 3369, 3370, 3371, 3372, 3375, 3379, 3381, 3383, 3384, 3386, 3387, 3403, 3405, 3406, 3407, 3409, 3411, 3412, 3414, 3417, 3419, 3423, 3427, 3430, 3432, 3433, 3434, 3439, 3441, 3442, 3443, 3450, 3453, 3456, 3461, 3462, 3463, 3465, 3469, 3470, 3471, 3473, 3474, 3476, 3478, 3480, 3481, 3484, 3485, 3487, 3489, 3490, 3492, 3493, 3494, 3496, 3500, 3501, 3504, 3505, 3506, 3507, 3520, 3525, 3526, 3529, 3533, 3538, 3544, 3545, 3548, 3550, 3551, 3552, 3553, 3555, 3557, 3558, 3559, 3566, 3568, 3573, 3574, 3575, 3579, 3583, 3584, 3585, 3586, 3588, 3590, 3591, 3594, 3595, 3597, 3598, 3599, 3601, 3602, 3606, 3607, 3608, 3619, 3622, 3629, 3637, 3639, 3641, 3642, 3644, 3645, 3647, 3648, 3649, 3650, 3651, 3652, 3653, 3654, 3655, 3656, 3657, 3658, 3659, 3660, 3661, 3662, 3663, 3664, 3666, 3667, 3668, 3669, 3671, 3676, 3677, 3682, 3683, 3687, 3691, 3696, 3697, 3698, 3699, 3701, 3704, 3709, 3713, 3716, 3718, 3720, 3722, 3723, 3724, 3725, 3726, 3727, 3729, 3735, 3736, 3737, 3738, 3739, 3740, 3742, 3745, 3750, 3751, 3752, 3755, 3757, 3762, 3765, 3767, 3772, 3773, 3774, 3775, 3779, 3781, 3782, 3788, 3789, 3790, 3793, 3794, 3795, 3796, 3797, 3799, 3800, 3802, 3803, 3805, 3810, 3812, 3813, 3816, 3818, 3822, 3824, 3827, 3830, 3831, 3838, 3841, 3842, 3843, 3844, 3851, 3854, 3856, 3859, 3862, 3869, 3878, 3880, 3883, 3885, 3886, 3887, 3888, 3889, 3890, 3891, 3894, 3895, 3897, 3901, 3902, 3903, 3904, 3909, 3911, 3912, 3915, 3916, 3917, 3918, 3920, 3921, 3925, 3926, 3932, 3933, 3934, 3935, 3938, 3939, 3940, 3941, 3942, 3946, 3947, 3949, 3952, 3953, 3954, 3957, 3962, 3966, 3967, 3969, 3973, 3974, 3976, 3977, 3984, 3986, 3995, 3997, 4001, 4003, 4005, 4009, 4012, 4024, 4026, 4028, 4031, 4033, 4034, 4039, 4041, 4042, 4045, 4049, 4053, 4059, 4060, 4062, 4063, 4065, 4066, 4072, 4077, 4078, 4080, 4081, 4087, 4088, 4089, 4091, 4093, 4094, 4095, 4096, 4097, 4100, 4104, 4107, 4112, 4116, 4120, 4121, 4122, 4126, 4131, 4132, 4137, 4138, 4143, 4144, 4148, 4156, 4158, 4161, 4162, 4168, 4170, 4174, 4175, 4180, 4181, 4189, 4192, 4194, 4195, 4201, 4207, 4209, 4210, 4212, 4215, 4216, 4220, 4221, 4227, 4228, 4230, 4231, 4233, 4235, 4238, 4239, 4242, 4246, 4247, 4248, 4256, 4260, 4261, 4262, 4265, 4266, 4271, 4273, 4274, 4277, 4278, 4279, 4280, 4283, 4284, 4286, 4287, 4288, 4289, 4290, 4291, 4292, 4294, 4295, 4297, 4298, 4304, 4305, 4306, 4307, 4308, 4310, 4311, 4313, 4315, 4316, 4318, 4319, 4320, 4321, 4328, 4329, 4330, 4333, 4336, 4338, 4340, 4341, 4342, 4343, 4345, 4346, 4348, 4349, 4350, 4351, 4354, 4355, 4356, 4357, 4360, 4362, 4364, 4365, 4368, 4370, 4372, 4373, 4374, 4379, 4380, 4381, 4387, 4391, 4392, 4395, 4398, 4400, 4402, 4403, 4404, 4410, 4412, 4417, 4419, 4427, 4428, 4429, 4440, 4446, 4448, 4450, 4451, 4455, 4456, 4461, 4464, 4466, 4468, 4469, 4470, 4471, 4472, 4477, 4480, 4481, 4485, 4489, 4494, 4497, 4498, 4504, 4505, 4506, 4507, 4509, 4516, 4519, 4520, 4523, 4526, 4527, 4528, 4534, 4535, 4538, 4547, 4548, 4555, 4557, 4558, 4559, 4560, 4561, 4563, 4564, 4568, 4570, 4572, 4573, 4574, 4578, 4590, 4595, 4597, 4598, 4602, 4608, 4609, 4611, 4614, 4615, 4616, 4618, 4619, 4620, 4623, 4636, 4638, 4640, 4641, 4642, 4643, 4644, 4645, 4646, 4647, 4648, 4649, 4650, 4651, 4656, 4658, 4659, 4665, 4675, 4678, 4681, 4682, 4684, 4685, 4687, 4688, 4689, 4691, 4693, 4698, 4701, 4705, 4708, 4710, 4711, 4712, 4713, 4715, 4717, 4718, 4719, 4721, 4723, 4729, 4730, 4732, 4733, 4734, 4736, 4737, 4740, 4741, 4742, 4746, 4747, 4749, 4750, 4751, 4754, 4757, 4760, 4761, 4762, 4763, 4764, 4766, 4767, 4768, 4769, 4771, 4773, 4775, 4781, 4784, 4785, 4791, 4793, 4794, 4796, 4801, 4803, 4804, 4806, 4807, 4809, 4810, 4811, 4814, 4818, 4820, 4821, 4826, 4830, 4831, 4832, 4833, 4836, 4837, 4838, 4841, 4842, 4845, 4850, 4852, 4854, 4857, 4858, 4859, 4860, 4862, 4863, 4876, 4877, 4878, 4879, 4882, 4885, 4886, 4889, 4890, 4891, 4895, 4904, 4911, 4914, 4918, 4919, 4920, 4921, 4922, 4929, 4930, 4931, 4933, 4934, 4935, 4940, 4943, 4944, 4949, 4954, 4955, 4956, 4958, 4960, 4962, 4965, 4970, 4971, 4972, 4973, 4976, 4978, 4983, 4984, 4985, 4996, 5000, 5004, 5008, 5011, 5012, 5013, 5017, 5018, 5019, 5020, 5021, 5025, 5039, 5040, 5042, 5043, 5045, 5051, 5053, 5059, 5064, 5065, 5066, 5067, 5068, 5069, 5070, 5071, 5072, 5075, 5077, 5080, 5081, 5082, 5084, 5086, 5088, 5089, 5090, 5091, 5092, 5093, 5100, 5102, 5103, 5107, 5110, 5115, 5117, 5118, 5121, 5123, 5124, 5125, 5129, 5130, 5131, 5132, 5133, 5136, 5137, 5139, 5140, 5142, 5143, 5144, 5146, 5148, 5149, 5151, 5154, 5156, 5157, 5158, 5159, 5160, 5163, 5164, 5168, 5170, 5171, 5172, 5173, 5174, 5175, 5176, 5185, 5187, 5191, 5192, 5193, 5194, 5195, 5196, 5197, 5200, 5201, 5208, 5209, 5212, 5214, 5215, 5218, 5219, 5222, 5224, 5226, 5227, 5230, 5231, 5232, 5233, 5235, 5237, 5238, 5241, 5246, 5248, 5253, 5254, 5255, 5257, 5258, 5265, 5271, 5274, 5276, 5280, 5281, 5288, 5291, 5304, 5305, 5306, 5308, 5311, 5314, 5315, 5318, 5321, 5325, 5326, 5330, 5336, 5337, 5341, 5342, 5346, 5347, 5349, 5350, 5354, 5355, 5364, 5365, 5367, 5372, 5383, 5384, 5385, 5386, 5387, 5393, 5394, 5400, 5401, 5402, 5403, 5404, 5405, 5406, 5407, 5408, 5411, 5412, 5413, 5414, 5433, 5436, 5437, 5438, 5444, 5458, 5459, 5460, 5461, 5464, 5468, 5472, 5480, 5481, 5489, 5493, 5494, 5499, 5501, 5502, 5515, 5516, 5518, 5524, 5526, 5527, 5536, 5538, 5544, 5545, 5546, 5549, 5552, 5554, 5555, 5556, 5557, 5558, 5561, 5562, 5563, 5565, 5566, 5568, 5569, 5570, 5572, 5574, 5575, 5576, 5577, 5581, 5582, 5583, 5584, 5587, 5588, 5589, 5592, 5593, 5594, 5597, 5599, 5601, 5604, 5605, 5607, 5609, 5613, 5619, 5621, 5623, 5624, 5626, 5627, 5628, 5635, 5637, 5638, 5639, 5640, 5642, 5643, 5644, 5648, 5653, 5657, 5659, 5661, 5667, 5672, 5674, 5675, 5676, 5677, 5683, 5686, 5687, 5691, 5693, 5700, 5703, 5704, 5705, 5708, 5709, 5714, 5715, 5718, 5722, 5723, 5724, 5725, 5727, 5729, 5731, 5733, 5737, 5739, 5740, 5741, 5742, 5745, 5747, 5751, 5753, 5754, 5757, 5762, 5764, 5765, 5766, 5779, 5787, 5789, 5790, 5791, 5795, 5796, 5798, 5808, 5811, 5813, 5821, 5822, 5824, 5829, 5831, 5832, 5834, 5835, 5836, 5837, 5839, 5843, 5845, 5848, 5851, 5853, 5854, 5855, 5861, 5864, 5865, 5868, 5870, 5872, 5875, 5879, 5881, 5886, 5887, 5891, 5898, 5899, 5904, 5908, 5912, 5917, 5920, 5921, 5924, 5925, 5928, 5931, 5934, 5937, 5947, 5948, 5950, 5954, 5956, 5958, 5959, 5965, 5966, 5967, 5969, 5975, 5976, 5977, 5989, 5993, 5997, 5998, 6000, 6002, 6004, 6007, 6011, 6012, 6017, 6024, 6025, 6030, 6032, 6034, 6038, 6042, 6048, 6049, 6050, 6051, 6053, 6054, 6055, 6059, 6063, 6068, 6076, 6077, 6078, 6080, 6084, 6087, 6091, 6092, 6093, 6095, 6099, 6100, 6103, 6109, 6114, 6115, 6116, 6119, 6120, 6122, 6123, 6124, 6125, 6126, 6127, 6132, 6136, 6137, 6139, 6141, 6145, 6148, 6151, 6152, 6153, 6155, 6163, 6164, 6166, 6170, 6174, 6176, 6178, 6186, 6189, 6192, 6198, 6201, 6205, 6207, 6212, 6213, 6215, 6216, 6217, 6224, 6225, 6226, 6231, 6236, 6237, 6239, 6242, 6243, 6244, 6248, 6249, 6255, 6261, 6268, 6274, 6285, 6286, 6287, 6288, 6292, 6293, 6295, 6296, 6297, 6298, 6299, 6300, 6302, 6304, 6309, 6316, 6322, 6323, 6336, 6338, 6341, 6346, 6347, 6356, 6363, 6365, 6366, 6368, 6372, 6373, 6375, 6378, 6379, 6380, 6382, 6385, 6386, 6387, 6388, 6390, 6395, 6397, 6399, 6400, 6402, 6403, 6406, 6407, 6408, 6409, 6410, 6413, 6415, 6417, 6418, 6420, 6423, 6424, 6431, 6436, 6437, 6438, 6439, 6452, 6455, 6457, 6458, 6459, 6460, 6462, 6463, 6464, 6465, 6466, 6470, 6472, 6475, 6476, 6477, 6479, 6487, 6490, 6491, 6493, 6494, 6496, 6499, 6500, 6501, 6507, 6509, 6510, 6511, 6512, 6514, 6518, 6520, 6521, 6526, 6527, 6528, 6529, 6530, 6531, 6533, 6540, 6545, 6551, 6553, 6554, 6556, 6557, 6560, 6567, 6570, 6571, 6580, 6584, 6586, 6591, 6592, 6593, 6601, 6605, 6606, 6621, 6629, 6630, 6636, 6641, 6642, 6644, 6648, 6649, 6651, 6652, 6653, 6659, 6660, 6661, 6662, 6664, 6665, 6666, 6671, 6674, 6677, 6679, 6685, 6692, 6694, 6695, 6698, 6700, 6709, 6710, 6711, 6713, 6714, 6716, 6717, 6731, 6737, 6739, 6742, 6743, 6744, 6749, 6750, 6753, 6754, 6755, 6757, 6758, 6759, 6760, 6765, 6767, 6769, 6770, 6773, 6775, 6777, 6779, 6781, 6784, 6790, 6792, 6793, 6796, 6798, 6805, 6807, 6812, 6814, 6816, 6817, 6820, 6822, 6825, 6830, 6832, 6834, 6835, 6836, 6842, 6843, 6844, 6845, 6846, 6847, 6851, 6856, 6857, 6859, 6864, 6865, 6867, 6868, 6870, 6872, 6876, 6888, 6889, 6893, 6894, 6899, 6902, 6903, 6904, 6909, 6910, 6912, 6913, 6917, 6920, 6921, 6923, 6926, 6927, 6928, 6931, 6932, 6940, 6942, 6945, 6946, 6949, 6953, 6955, 6957, 6963, 6976, 6985, 6986, 6990, 6991, 6993, 6995, 7003, 7004, 7006, 7009, 7011, 7012, 7016, 7017, 7018, 7024, 7025, 7026, 7027, 7028, 7030, 7033, 7035, 7036, 7037, 7039, 7040, 7041, 7042, 7056, 7060, 7062, 7065, 7066, 7068, 7072, 7073, 7074, 7075, 7078, 7079, 7080, 7082, 7088, 7089, 7092, 7096, 7099, 7100, 7107, 7112, 7113, 7116, 7117, 7124, 7125, 7127, 7132, 7133, 7136, 7148, 7150, 7154, 7157, 7158, 7159, 7160, 7161, 7162, 7163, 7165, 7166, 7167, 7168, 7169, 7170, 7171, 7172, 7173, 7174, 7175, 7176, 7177, 7179, 7181, 7182, 7183, 7184, 7186, 7187, 7188, 7190, 7193, 7194, 7195, 7202, 7209, 7216, 7222, 7225, 7226, 7232, 7242, 7244, 7245, 7246, 7252, 7253, 7254, 7255, 7264, 7267, 7273, 7277, 7278, 7286, 7288, 7290, 7294, 7297, 7298, 7301, 7303, 7305, 7307, 7308, 7312, 7313, 7314, 7321, 7328, 7329, 7334, 7337, 7342, 7346, 7359, 7365, 7372, 7375, 7376, 7391, 7395, 7398, 7401, 7407, 7408, 7409, 7410, 7411, 7412, 7415, 7416, 7417, 7419, 7420, 7421, 7422, 7423, 7425, 7431, 7433, 7436, 7444, 7447, 7449, 7450, 7461, 7467, 7469, 7472, 7475, 7477, 7486, 7488, 7491, 7492, 7493, 7494, 7495, 7496, 7497, 7498, 7499, 7500, 7501, 7503, 7511, 7517, 7520, 7522, 7524, 7525, 7533, 7536, 7537, 7538, 7539, 7543, 7544, 7545, 7549, 7551, 7553, 7559, 7564, 7565, 7569, 7571, 7572, 7573, 7574, 7575, 7576, 7577, 7578, 7581, 7585, 7588, 7597, 7598, 7599, 7600, 7601, 7602, 7603, 7604, 7605, 7606, 7607, 7608, 7610, 7611, 7615, 7616, 7620, 7625, 7626, 7627, 7629, 7630, 7631, 7632, 7640, 7644, 7645, 7646, 7651, 7654, 7656, 7657, 7660, 7663, 7664, 7666, 7668, 7671, 7672, 7678, 7682, 7687, 7688, 7690, 7691, 7692, 7693, 7695, 7699, 7701, 7702, 7703, 7705, 7710, 7712, 7713, 7717, 7721, 7726, 7727, 7728, 7730, 7732, 7733, 7735, 7742, 7745, 7746, 7749, 7753, 7756, 7757, 7768, 7772, 7773, 7779, 7784, 7785, 7788, 7789, 7790, 7791, 7792, 7793, 7794, 7795, 7807, 7808, 7809, 7815, 7816, 7817, 7823, 7827, 7833, 7834, 7835, 7839, 7841, 7843, 7844, 7849, 7850, 7854, 7855, 7856, 7857, 7858, 7859, 7863, 7866, 7878, 7881, 7884, 7896, 7897, 7904, 7905, 7918, 7919, 7920, 7924, 7925, 7932, 7934, 7940, 7946, 7948, 7951, 7953, 7961, 7962, 7964, 7965, 7966, 7969, 7972, 7976, 7978, 7980, 7983, 7988, 7989, 7990, 7991, 7998, 8001, 8002, 8006, 8007, 8014, 8020, 8023, 8024, 8025, 8026, 8027, 8028, 8029, 8034, 8035, 8039, 8040, 8041, 8042, 8043, 8044, 8045, 8046, 8047, 8048, 8051, 8056, 8057, 8059, 8068, 8069, 8070, 8071, 8073, 8074, 8075, 8076, 8077, 8078, 8094, 8096, 8099, 8102, 8103, 8104, 8105, 8107, 8111, 8114, 8118, 8119, 8123, 8126, 8133, 8135, 8136, 8139, 8142, 8146, 8152, 8154, 8157, 8158, 8160, 8163, 8166, 8167, 8168, 8171, 8172, 8175, 8176, 8177, 8179, 8183, 8184, 8185, 8188}\n",
      "Usando o modelo word2vec a consulta é extendida para os termos cumprimento, oab-sp e conviver\n",
      "Resultando nos seguintes 3359 documentos:\n",
      "{4, 5, 6, 7, 8, 8196, 10, 12, 13, 14, 15, 16, 8205, 18, 8208, 20, 8209, 8210, 23, 8213, 8214, 8217, 27, 28, 8221, 31, 32, 35, 37, 38, 8229, 41, 42, 43, 44, 8233, 46, 8236, 48, 8238, 50, 8240, 8241, 8242, 8245, 8246, 8247, 8248, 8249, 8253, 8254, 63, 8255, 65, 66, 67, 8261, 70, 72, 8264, 74, 76, 77, 8268, 8272, 84, 86, 8286, 95, 8287, 97, 8292, 101, 102, 107, 108, 8299, 8300, 8301, 8302, 8303, 114, 115, 8304, 117, 118, 8306, 8312, 121, 8313, 123, 8318, 128, 130, 133, 135, 136, 8328, 138, 140, 141, 8333, 143, 144, 8335, 8336, 147, 8338, 8339, 150, 8343, 152, 153, 155, 157, 8350, 159, 8354, 163, 167, 168, 8361, 8362, 172, 173, 174, 175, 176, 177, 8370, 8371, 8372, 184, 8376, 186, 8380, 189, 191, 192, 8385, 8386, 8387, 196, 8391, 200, 8393, 202, 203, 204, 205, 8397, 207, 8399, 201, 8402, 211, 8395, 213, 214, 8408, 218, 222, 224, 225, 226, 227, 8416, 230, 231, 8422, 233, 8428, 8429, 238, 8430, 240, 241, 242, 243, 244, 8437, 246, 247, 248, 8441, 8442, 8443, 253, 254, 255, 256, 8447, 8450, 259, 263, 264, 8456, 266, 267, 8460, 271, 8463, 273, 8467, 8469, 8470, 279, 8472, 282, 8474, 8478, 290, 8484, 8485, 295, 8487, 300, 8493, 304, 8497, 307, 8499, 8501, 312, 313, 8505, 8506, 317, 321, 324, 325, 8516, 8518, 328, 329, 330, 331, 8522, 8524, 336, 337, 338, 8531, 340, 341, 342, 344, 345, 8538, 349, 350, 8543, 353, 8545, 356, 8549, 363, 364, 365, 366, 367, 8556, 8558, 374, 375, 380, 385, 8578, 387, 8579, 8581, 8582, 391, 393, 8587, 8588, 8589, 399, 400, 8592, 402, 8593, 404, 8594, 8595, 8597, 408, 409, 410, 411, 412, 8601, 8602, 8603, 8609, 8617, 426, 428, 429, 8622, 431, 8623, 434, 8626, 8629, 8632, 8633, 8637, 448, 8641, 450, 453, 454, 455, 456, 457, 8650, 8651, 8653, 8654, 8656, 8659, 469, 8666, 475, 8670, 8671, 480, 8672, 483, 484, 8676, 8678, 487, 488, 489, 490, 8679, 8682, 8683, 8685, 495, 8686, 8687, 8688, 8689, 8690, 501, 502, 8691, 8693, 8694, 506, 8697, 508, 8698, 8699, 8703, 512, 513, 514, 515, 516, 8704, 8708, 519, 8712, 8707, 522, 8714, 8715, 8716, 526, 518, 530, 534, 544, 549, 552, 558, 559, 111, 561, 565, 568, 569, 572, 573, 574, 577, 578, 581, 586, 587, 588, 591, 593, 594, 596, 598, 602, 603, 606, 611, 612, 614, 617, 620, 626, 636, 637, 644, 645, 648, 649, 655, 659, 661, 663, 664, 677, 681, 683, 690, 691, 693, 698, 700, 702, 706, 707, 708, 709, 712, 715, 718, 719, 720, 722, 725, 731, 734, 745, 748, 753, 754, 758, 759, 762, 763, 770, 771, 772, 774, 775, 776, 780, 782, 783, 785, 786, 793, 794, 797, 808, 812, 813, 815, 820, 822, 824, 825, 828, 831, 835, 838, 840, 845, 846, 847, 849, 850, 851, 853, 861, 864, 865, 866, 867, 869, 870, 871, 874, 875, 882, 886, 890, 894, 895, 899, 903, 904, 905, 906, 907, 909, 927, 928, 930, 932, 935, 940, 941, 946, 947, 953, 958, 963, 964, 968, 969, 970, 971, 973, 974, 975, 979, 980, 981, 983, 985, 986, 987, 996, 1002, 1005, 1007, 1008, 1009, 1014, 1015, 1016, 1017, 1019, 1020, 1021, 1022, 1023, 1025, 1028, 1029, 1030, 1033, 1035, 1038, 1039, 1042, 1044, 1045, 1062, 1066, 1067, 1071, 1072, 1074, 1075, 1076, 1079, 1080, 1081, 1082, 1087, 1090, 1092, 1095, 1098, 1099, 1101, 1102, 1106, 1107, 1108, 1110, 1111, 1112, 1114, 1118, 1123, 1124, 1142, 1144, 1152, 1158, 1161, 1163, 1164, 1166, 1167, 1171, 1174, 1179, 1180, 1183, 1185, 1192, 1197, 1199, 1200, 1201, 1202, 1203, 1205, 1208, 1217, 1220, 1226, 1227, 1228, 1233, 1234, 1235, 1237, 1238, 1239, 1241, 1242, 1244, 1246, 1248, 1250, 1251, 1254, 1256, 1265, 1268, 1270, 1273, 1275, 1276, 1279, 1283, 1284, 1287, 1296, 1298, 1300, 1304, 1306, 1308, 1309, 1310, 1314, 1326, 1327, 1328, 1330, 1335, 1336, 1339, 1340, 1344, 1347, 1348, 1351, 1352, 1353, 1354, 1355, 1356, 1359, 1361, 1362, 1364, 1365, 1368, 1370, 1374, 1378, 1379, 1380, 1381, 1383, 1384, 1386, 1388, 1391, 1393, 1394, 1397, 1398, 1402, 1405, 1406, 1407, 1416, 1417, 1418, 1419, 1422, 1423, 1424, 1427, 1432, 1437, 1438, 1439, 1440, 1441, 1458, 1459, 1461, 1462, 1463, 1465, 1471, 1477, 1485, 1486, 1489, 1491, 1495, 1498, 1499, 1501, 1502, 1503, 1504, 1505, 1507, 1510, 1515, 1519, 1524, 1525, 1529, 1531, 1532, 1533, 1534, 1537, 1539, 1540, 1541, 1542, 1543, 1547, 1551, 1554, 1556, 1561, 1568, 1577, 1578, 1579, 1586, 1588, 1589, 1599, 1600, 1601, 1604, 1612, 1613, 1614, 1617, 1621, 1623, 1624, 1626, 1627, 1630, 1637, 1638, 1641, 1642, 1651, 1652, 1653, 1654, 1655, 1656, 1657, 1660, 1661, 1663, 1664, 1667, 1668, 1677, 1680, 1681, 1684, 1689, 1690, 1691, 1692, 1697, 1699, 1701, 1702, 1707, 1711, 1713, 1716, 1722, 1724, 1725, 1728, 1731, 1732, 1742, 1744, 1745, 1746, 1748, 1756, 1757, 1758, 1761, 1770, 1782, 1783, 1784, 1787, 1792, 1795, 1797, 1799, 1801, 1802, 1806, 1807, 1809, 1810, 1811, 1815, 1816, 1820, 1824, 1830, 1832, 1834, 1840, 1842, 1847, 1848, 1855, 1857, 1858, 1859, 1861, 1864, 1865, 1866, 1872, 1875, 1876, 1883, 1886, 1891, 1896, 1897, 1900, 1911, 1913, 1914, 1918, 1919, 1920, 1938, 1941, 1942, 1945, 1946, 1950, 1951, 1953, 1956, 1958, 1965, 1968, 1969, 1970, 1971, 1972, 1974, 1978, 1979, 1980, 1981, 1982, 1989, 1990, 1996, 1997, 2000, 2001, 2003, 2007, 2008, 2012, 2013, 2018, 2019, 2020, 2021, 2024, 2025, 2027, 2031, 2033, 2037, 405, 2039, 2042, 2043, 2046, 2047, 2048, 2049, 2065, 2068, 2070, 2072, 2077, 2085, 2087, 2088, 2110, 2114, 2115, 2119, 2120, 2121, 2123, 2124, 2125, 2126, 2127, 2128, 2139, 2142, 2143, 2157, 2167, 2169, 2170, 2171, 2172, 2185, 2186, 2189, 2192, 2195, 2196, 2199, 2201, 2202, 2203, 2204, 2205, 2206, 2207, 2208, 2211, 2212, 2213, 2214, 2215, 2216, 2217, 2218, 2219, 2220, 2221, 2222, 2223, 2224, 2225, 2226, 2228, 2229, 2230, 2238, 2240, 2242, 2244, 2245, 2246, 2249, 2252, 2253, 2254, 2256, 2262, 2266, 2267, 2269, 2270, 2273, 2276, 2280, 2282, 2283, 2284, 2287, 2288, 2289, 2294, 2298, 2299, 2303, 2305, 2313, 2315, 2316, 2317, 2321, 2323, 2324, 2325, 2328, 2335, 2344, 2349, 2355, 2357, 2359, 2360, 2361, 2362, 2365, 2368, 2385, 2387, 2392, 2403, 2406, 2413, 2415, 2421, 2426, 2429, 2432, 2437, 2438, 2439, 2440, 2443, 2445, 2448, 2451, 2455, 2457, 2458, 2459, 2461, 2462, 2463, 2468, 2469, 2475, 2476, 2485, 2487, 2491, 2496, 2497, 2498, 2501, 2503, 2504, 2505, 2506, 2507, 2508, 499, 2512, 2513, 2514, 2515, 2516, 2517, 2518, 2520, 2521, 2522, 2528, 2529, 2530, 2532, 2535, 2536, 2537, 2538, 2539, 2557, 2562, 2565, 2567, 2571, 2572, 2573, 2574, 2575, 2576, 2578, 2581, 2582, 2584, 2585, 2586, 2587, 2590, 2591, 2592, 2593, 2594, 2595, 2596, 2598, 2602, 2603, 2611, 2612, 2618, 2619, 2621, 2622, 2623, 2625, 2627, 2628, 2629, 2630, 2631, 2632, 2633, 2636, 2637, 2638, 2648, 2654, 2659, 2660, 2662, 2663, 2665, 2668, 2670, 2671, 2673, 2675, 2683, 2685, 2688, 2690, 2692, 2693, 2695, 2701, 2706, 2707, 2708, 2711, 2712, 2714, 2717, 2718, 2720, 2723, 2724, 2727, 2728, 2731, 2734, 2735, 2740, 2741, 2742, 2750, 2754, 2755, 2756, 2757, 2758, 2759, 2760, 2763, 2766, 2767, 2773, 2779, 2782, 2784, 2787, 2790, 2791, 2796, 2798, 2799, 2801, 2802, 2803, 2804, 2807, 2808, 2809, 2810, 2812, 2813, 2817, 2819, 2821, 2825, 2826, 2833, 2841, 2842, 2844, 2847, 2850, 2853, 2855, 2856, 2858, 2867, 2870, 2871, 2872, 2874, 2875, 2876, 2878, 2881, 2882, 2884, 2885, 2887, 2890, 2892, 2894, 2897, 2900, 2907, 2908, 2909, 2910, 2914, 2918, 2921, 2930, 2938, 2939, 2942, 2963, 2965, 2966, 2967, 2971, 2973, 2976, 2978, 2980, 2981, 2982, 2983, 2985, 2986, 2989, 2991, 2992, 2993, 2994, 2995, 2997, 3000, 3002, 3006, 3010, 3012, 3013, 3014, 3015, 3020, 3024, 3025, 3027, 3028, 3030, 3037, 3038, 3039, 3040, 3042, 3046, 3047, 3048, 3051, 3052, 3053, 3057, 3063, 3064, 3065, 3066, 3067, 3072, 3073, 3075, 3076, 3077, 3085, 3086, 3088, 3090, 3091, 3092, 3103, 3106, 3109, 3110, 3112, 3122, 3125, 3128, 3129, 3131, 3137, 3141, 3142, 3145, 3147, 3149, 3159, 3162, 3163, 3164, 3165, 3166, 3169, 3173, 3176, 3177, 3178, 3179, 3180, 3181, 3184, 3187, 3188, 3192, 3193, 3195, 3197, 3199, 3201, 3202, 3207, 3208, 3209, 3210, 3212, 3222, 3225, 3227, 3228, 3230, 3232, 3234, 3236, 3243, 3244, 3249, 3250, 3255, 3256, 3257, 3259, 3262, 3274, 3275, 3277, 3278, 3279, 3280, 3282, 3286, 3287, 3290, 3292, 3293, 3294, 3295, 3297, 3299, 3302, 3305, 3306, 3309, 3312, 3313, 3314, 3316, 3317, 3318, 3320, 3321, 3324, 3327, 3330, 3333, 3335, 3336, 3338, 3339, 3340, 3349, 3350, 3352, 3354, 3358, 3359, 3360, 3361, 3364, 3365, 3366, 3367, 3368, 3369, 3370, 3371, 3372, 3375, 3379, 3381, 3383, 3384, 3386, 3387, 3403, 3405, 3406, 3407, 3409, 3411, 3412, 3414, 3417, 3419, 3423, 3427, 3430, 3432, 3433, 3434, 3439, 3441, 3442, 3443, 3450, 3453, 3456, 3461, 3462, 3463, 3465, 3469, 3470, 3471, 3473, 3474, 3476, 3478, 3480, 3481, 3484, 3485, 3487, 3489, 3490, 3492, 3493, 3494, 3496, 3500, 3501, 3504, 3505, 3506, 3507, 3512, 3520, 3525, 3526, 3528, 3529, 3533, 3538, 3544, 3545, 3548, 3550, 3551, 3552, 3553, 3555, 3557, 3558, 3559, 3566, 3568, 3573, 3574, 3575, 3579, 3583, 3584, 3585, 3586, 3588, 3590, 3591, 3594, 3595, 3597, 3598, 3599, 3601, 3602, 3606, 3607, 3608, 3619, 3622, 3629, 3637, 3639, 3641, 3642, 3644, 3645, 3647, 3648, 3649, 3650, 3651, 3652, 3653, 3654, 3655, 3656, 3657, 3658, 3659, 3660, 3661, 3662, 3663, 3664, 3666, 3667, 3668, 3669, 3671, 3676, 3677, 3682, 3683, 3687, 3691, 3695, 3696, 3697, 3698, 3699, 3701, 3703, 3704, 3709, 3713, 3716, 3718, 3720, 3721, 3722, 3723, 3724, 3725, 3726, 3727, 3729, 3732, 3735, 3736, 3737, 3738, 3739, 3740, 3742, 3745, 3750, 3751, 3752, 3755, 3757, 3762, 3765, 3767, 3772, 3773, 3774, 3775, 3779, 3780, 3781, 3782, 3788, 3789, 3790, 3793, 3794, 3795, 3796, 3797, 3799, 3800, 3802, 3803, 3805, 3810, 3812, 3813, 3816, 3818, 3822, 3824, 3827, 3830, 3831, 3838, 3841, 3842, 3843, 3844, 3851, 3854, 3856, 3859, 3862, 3869, 3878, 3880, 3883, 3885, 3886, 3887, 3888, 3889, 3890, 3891, 3894, 3895, 3897, 3901, 3902, 3903, 3904, 3909, 3911, 3912, 3915, 3916, 3917, 3918, 3920, 3921, 3922, 3925, 3926, 3932, 3933, 3934, 3935, 3938, 3939, 3940, 3941, 3942, 3946, 3947, 3949, 3952, 3953, 3954, 3957, 3962, 3966, 3967, 3969, 3973, 3974, 3976, 3977, 3984, 3986, 3995, 3997, 4001, 4003, 4005, 4009, 4012, 4024, 4025, 4026, 4028, 4031, 4033, 4034, 4039, 4041, 4042, 4045, 4049, 4053, 4059, 4060, 4062, 4063, 4065, 4066, 4072, 4077, 4078, 4080, 4081, 4087, 4088, 4089, 4091, 4093, 4094, 4095, 4096, 4097, 4100, 4104, 4107, 4111, 4112, 4116, 4120, 4121, 4122, 4126, 4131, 4132, 4137, 4138, 4143, 4144, 4148, 4156, 4158, 4161, 4162, 4168, 4170, 4174, 4175, 4180, 4181, 4189, 4192, 4194, 4195, 4201, 4207, 4209, 4210, 4212, 4215, 4216, 4220, 4221, 4227, 4228, 4230, 4231, 4233, 4235, 4238, 4239, 4242, 4246, 4247, 4248, 4256, 4260, 4261, 4262, 4265, 4266, 4271, 4273, 4274, 4277, 4278, 4279, 4280, 4283, 4284, 4286, 4287, 4288, 4289, 4290, 4291, 4292, 4294, 4295, 4297, 4298, 4303, 4304, 4305, 4306, 4307, 4308, 4310, 4311, 4313, 4315, 4316, 4318, 4319, 4320, 4321, 4324, 4328, 4329, 4330, 4333, 4336, 4338, 4340, 4341, 4342, 4343, 4345, 4346, 4347, 4348, 4349, 4350, 4351, 4354, 4355, 4356, 4357, 4360, 4362, 4364, 4365, 4368, 4370, 4372, 4373, 4374, 4379, 4380, 4381, 4387, 4391, 4392, 4395, 4398, 4400, 4402, 4403, 4404, 4410, 4412, 4417, 4419, 4427, 4428, 4429, 4440, 4446, 4448, 4450, 4451, 4455, 4456, 4461, 4464, 4466, 4468, 4469, 4470, 4471, 4472, 4477, 4480, 4481, 4485, 4489, 4494, 4497, 4498, 4504, 4505, 4506, 4507, 4509, 4516, 4519, 4520, 4523, 4526, 4527, 4528, 4534, 4535, 4538, 4544, 4547, 4548, 4555, 4557, 4558, 4559, 4560, 4561, 4563, 4564, 4568, 4570, 4572, 4573, 4574, 4578, 4590, 4595, 4597, 4598, 4602, 4608, 4609, 4611, 4614, 4615, 4616, 4618, 4619, 4620, 4623, 4636, 4638, 4640, 4641, 4642, 4643, 4644, 4645, 4646, 4647, 4648, 4649, 4650, 4651, 4656, 4658, 4659, 4665, 4675, 4678, 4681, 4682, 4684, 4685, 4687, 4688, 4689, 4691, 4693, 4698, 4701, 4703, 4705, 4706, 4708, 4710, 4711, 4712, 4713, 4715, 4717, 4718, 4719, 4721, 4722, 4723, 4729, 4730, 4732, 4733, 4734, 4736, 4737, 4740, 4741, 4742, 4744, 4746, 4747, 4749, 4750, 4751, 4754, 4757, 4759, 4760, 4761, 4762, 4763, 4764, 4766, 4767, 4768, 4769, 4771, 4773, 4775, 4779, 4780, 4781, 4784, 4785, 4791, 4793, 4794, 4796, 4800, 4801, 4803, 4804, 4805, 4806, 4807, 4809, 4810, 4811, 4814, 4818, 4819, 4820, 4821, 4826, 4830, 4831, 4832, 4833, 4836, 4837, 4838, 4841, 4842, 4845, 4850, 4852, 4854, 4857, 4858, 4859, 4860, 4862, 4863, 4876, 4877, 4878, 4879, 4882, 4885, 4886, 4887, 4889, 4890, 4891, 4895, 4904, 4911, 4914, 4915, 4918, 4919, 4920, 4921, 4922, 4929, 4930, 4931, 4933, 4934, 4935, 4940, 4943, 4944, 4949, 4954, 4955, 4956, 4958, 4960, 4962, 4965, 4970, 4971, 4972, 4973, 4976, 4978, 4983, 4984, 4985, 4996, 5000, 5001, 5004, 5008, 5011, 5012, 5013, 5017, 5018, 5019, 5020, 5021, 5025, 5026, 5039, 5040, 5042, 5043, 5045, 5051, 5053, 5059, 5064, 5065, 5066, 5067, 5068, 5069, 5070, 5071, 5072, 5075, 5077, 5080, 5081, 5082, 5084, 5086, 5088, 5089, 5090, 5091, 5092, 5093, 5100, 5102, 5103, 5107, 5110, 5115, 5117, 5118, 5121, 5123, 5124, 5125, 5129, 5130, 5131, 5132, 5133, 5136, 5137, 5139, 5140, 5142, 5143, 5144, 5146, 5148, 5149, 5151, 5154, 5156, 5157, 5158, 5159, 5160, 5163, 5164, 5168, 5170, 5171, 5172, 5173, 5174, 5175, 5176, 5185, 5187, 5191, 5192, 5193, 5194, 5195, 5196, 5197, 5200, 5201, 5208, 5209, 5212, 5214, 5215, 5218, 5219, 5222, 5224, 5226, 5227, 5230, 5231, 5232, 5233, 5235, 5237, 5238, 5241, 5246, 5248, 5252, 5253, 5254, 5255, 5257, 5258, 5265, 5271, 5274, 5276, 5280, 5281, 5288, 5289, 5291, 5297, 5299, 5304, 5305, 5306, 5308, 5311, 5314, 5315, 5318, 5321, 5325, 5326, 5330, 5336, 5337, 5341, 5342, 5346, 5347, 5349, 5350, 5354, 5355, 5364, 5365, 5367, 5372, 5379, 5383, 5384, 5385, 5386, 5387, 5393, 5394, 5400, 5401, 5402, 5403, 5404, 5405, 5406, 5407, 5408, 5411, 5412, 5413, 5414, 5433, 5436, 5437, 5438, 5444, 5458, 5459, 5460, 5461, 5464, 5468, 5472, 5475, 5480, 5481, 5489, 5493, 5494, 5499, 5501, 5502, 5515, 5516, 5518, 5524, 5526, 5527, 5536, 5538, 5544, 5545, 5546, 5549, 5552, 5554, 5555, 5556, 5557, 5558, 5561, 5562, 5563, 5565, 5566, 5568, 5569, 5570, 5572, 5574, 5575, 5576, 5577, 5581, 5582, 5583, 5584, 5587, 5588, 5589, 5592, 5593, 5594, 5597, 5599, 5601, 5604, 5605, 5607, 5609, 5610, 5613, 5619, 5621, 5623, 5624, 5626, 5627, 5628, 5635, 5637, 5638, 5639, 5640, 5642, 5643, 5644, 5646, 5648, 5653, 5657, 5659, 5661, 5667, 5672, 5674, 5675, 5676, 5677, 5683, 5686, 5687, 5691, 5693, 5700, 5703, 5704, 5705, 5708, 5709, 5714, 5715, 5718, 5722, 5723, 5724, 5725, 5727, 5729, 5731, 5733, 5737, 5739, 5740, 5741, 5742, 5745, 5747, 5751, 5753, 5754, 5757, 5762, 5764, 5765, 5766, 5779, 5787, 5789, 5790, 5791, 5793, 5795, 5796, 5798, 5808, 5811, 5812, 5813, 5821, 5822, 5824, 5829, 5831, 5832, 5834, 5835, 5836, 5837, 5839, 5843, 5845, 5848, 5851, 5853, 5854, 5855, 5861, 5864, 5865, 5868, 5869, 5870, 5872, 5875, 5879, 5881, 5886, 5887, 5891, 5898, 5899, 5904, 5908, 5912, 5917, 5920, 5921, 5924, 5925, 5928, 5931, 5934, 5937, 5947, 5948, 5950, 5954, 5955, 5956, 5958, 5959, 5965, 5966, 5967, 5969, 5970, 5973, 5975, 5976, 5977, 5978, 5987, 5989, 5992, 5993, 5997, 5998, 6000, 6002, 6004, 6007, 6011, 6012, 6013, 6017, 6024, 6025, 6030, 6032, 6034, 6038, 6042, 6048, 6049, 6050, 6051, 6053, 6054, 6055, 6059, 6063, 6068, 6076, 6077, 6078, 6080, 6084, 6087, 6091, 6092, 6093, 6095, 6096, 6099, 6100, 6103, 6109, 6114, 6115, 6116, 6119, 6120, 6122, 6123, 6124, 6125, 6126, 6127, 6132, 6136, 6137, 6139, 6141, 6145, 6148, 6151, 6152, 6153, 6155, 6163, 6164, 6166, 6170, 6174, 6176, 6178, 6186, 6189, 6192, 6198, 6201, 6205, 6207, 6212, 6213, 6215, 6216, 6217, 6224, 6225, 6226, 6231, 6236, 6237, 6239, 6240, 6242, 6243, 6244, 6247, 6248, 6249, 6255, 6261, 6264, 6265, 6268, 6274, 6285, 6286, 6287, 6288, 6292, 6293, 6295, 6296, 6297, 6298, 6299, 6300, 6302, 6304, 6309, 6313, 6314, 6316, 6320, 6322, 6323, 6330, 6336, 6338, 6341, 6344, 6346, 6347, 6349, 6356, 6363, 6365, 6366, 6368, 6372, 6373, 6375, 6378, 6379, 6380, 6382, 6385, 6386, 6387, 6388, 6390, 6395, 6397, 6399, 6400, 6402, 6403, 6406, 6407, 6408, 6409, 6410, 6413, 6415, 6417, 6418, 6420, 6423, 6424, 6431, 6436, 6437, 6438, 6439, 6452, 6455, 6457, 6458, 6459, 6460, 6462, 6463, 6464, 6465, 6466, 6470, 6472, 6475, 6476, 6477, 6479, 6487, 6490, 6491, 6493, 6494, 6496, 6499, 6500, 6501, 6507, 6509, 6510, 6511, 6512, 6514, 6518, 6520, 6521, 6526, 6527, 6528, 6529, 6530, 6531, 6533, 6540, 6545, 6551, 6553, 6554, 6556, 6557, 6560, 6567, 6570, 6571, 6580, 6583, 6584, 6586, 6591, 6592, 6593, 6601, 6605, 6606, 6621, 6623, 6629, 6630, 6636, 6637, 6641, 6642, 6644, 6648, 6649, 6651, 6652, 6653, 6655, 6659, 6660, 6661, 6662, 6664, 6665, 6666, 6671, 6674, 6677, 6679, 6685, 6692, 6694, 6695, 6698, 6700, 6709, 6710, 6711, 6713, 6714, 6716, 6717, 6731, 6737, 6739, 6742, 6743, 6744, 6746, 6749, 6750, 6753, 6754, 6755, 6757, 6758, 6759, 6760, 6765, 6767, 6769, 6770, 6773, 6775, 6777, 6779, 6781, 6784, 6790, 6792, 6793, 6796, 6798, 6805, 6807, 6812, 6814, 6816, 6817, 6820, 6822, 6825, 6830, 6832, 6834, 6835, 6836, 6842, 6843, 6844, 6845, 6846, 6847, 6851, 6856, 6857, 6859, 6864, 6865, 6867, 6868, 6870, 6872, 6876, 6888, 6889, 6893, 6894, 6899, 6901, 6902, 6903, 6904, 6909, 6910, 6912, 6913, 6917, 6920, 6921, 6923, 6926, 6927, 6928, 6931, 6932, 6940, 6942, 6945, 6946, 6949, 6953, 6954, 6955, 6957, 6963, 6976, 6977, 6985, 6986, 6990, 6991, 6993, 6995, 7003, 7004, 7006, 7009, 7011, 7012, 7016, 7017, 7018, 7024, 7025, 7026, 7027, 7028, 7030, 7033, 7035, 7036, 7037, 7039, 7040, 7041, 7042, 7056, 7060, 7062, 7065, 7066, 7068, 7072, 7073, 7074, 7075, 7078, 7079, 7080, 7082, 7088, 7089, 7092, 7096, 7099, 7100, 7107, 7112, 7113, 7116, 7117, 7124, 7125, 7127, 7132, 7133, 7136, 7148, 7150, 7154, 7157, 7158, 7159, 7160, 7161, 7162, 7163, 7165, 7166, 7167, 7168, 7169, 7170, 7171, 7172, 7173, 7174, 7175, 7176, 7177, 7179, 7181, 7182, 7183, 7184, 7186, 7187, 7188, 7190, 7193, 7194, 7195, 7202, 7209, 7212, 7216, 7222, 7225, 7226, 7232, 7242, 7244, 7245, 7246, 7252, 7253, 7254, 7255, 7264, 7267, 7273, 7277, 7278, 7286, 7288, 7290, 7294, 7297, 7298, 7301, 7303, 7305, 7307, 7308, 7312, 7313, 7314, 7321, 7328, 7329, 7334, 7337, 7342, 7346, 7359, 7365, 7372, 7375, 7376, 7391, 7395, 7398, 7401, 7407, 7408, 7409, 7410, 7411, 7412, 7414, 7415, 7416, 7417, 7419, 7420, 7421, 7422, 7423, 7425, 7431, 7433, 7436, 7444, 7447, 7449, 7450, 7461, 7467, 7469, 7472, 7475, 7477, 7480, 7481, 7486, 7488, 7491, 7492, 7493, 7494, 7495, 7496, 7497, 7498, 7499, 7500, 7501, 7503, 7511, 7515, 7517, 7520, 7522, 7524, 7525, 7533, 7534, 7536, 7537, 7538, 7539, 7543, 7544, 7545, 7549, 7551, 7553, 7558, 7559, 7564, 7565, 7569, 7571, 7572, 7573, 7574, 7575, 7576, 7577, 7578, 7581, 7585, 7588, 7597, 7598, 7599, 7600, 7601, 7602, 7603, 7604, 7605, 7606, 7607, 7608, 7610, 7611, 7615, 7616, 7620, 7625, 7626, 7627, 7629, 7630, 7631, 7632, 7640, 7644, 7645, 7646, 7651, 7654, 7656, 7657, 7660, 7663, 7664, 7666, 7668, 7671, 7672, 7678, 7682, 7687, 7688, 7690, 7691, 7692, 7693, 7695, 7699, 7701, 7702, 7703, 7705, 7710, 7712, 7713, 7717, 7720, 7721, 7726, 7727, 7728, 7730, 7732, 7733, 7734, 7735, 7740, 7742, 7745, 7746, 7749, 7753, 7756, 7757, 7762, 7768, 7772, 7773, 7779, 7784, 7785, 7788, 7789, 7790, 7791, 7792, 7793, 7794, 7795, 7800, 7807, 7808, 7809, 7815, 7816, 7817, 7823, 7827, 7833, 7834, 7835, 7839, 7841, 7843, 7844, 7849, 7850, 7854, 7855, 7856, 7857, 7858, 7859, 7863, 7866, 7878, 7881, 7884, 7888, 7896, 7897, 7904, 7905, 7918, 7919, 7920, 7924, 7925, 7932, 7934, 7940, 7946, 7948, 7951, 7953, 7961, 7962, 7964, 7965, 7966, 7969, 7972, 7973, 7974, 7976, 7978, 7980, 7983, 7987, 7988, 7989, 7990, 7991, 7998, 8001, 8002, 8006, 8007, 8014, 8020, 8023, 8024, 8025, 8026, 8027, 8028, 8029, 8034, 8035, 8039, 8040, 8041, 8042, 8043, 8044, 8045, 8046, 8047, 8048, 8051, 8056, 8057, 8059, 8068, 8069, 8070, 8071, 8073, 8074, 8075, 8076, 8077, 8078, 8094, 8096, 8099, 8102, 8103, 8104, 8105, 8107, 8111, 8113, 8114, 8118, 8119, 8123, 8126, 8133, 8135, 8136, 8139, 8142, 8145, 8146, 8152, 8154, 8157, 8158, 8160, 8163, 8166, 8167, 8168, 8171, 8172, 8175, 8176, 8177, 8179, 8183, 8184, 8185, 8188}\n",
      "Foram adicionados 136 documentos ao retorno da consulta\n"
     ]
    }
   ],
   "source": [
    "busca_word2vec(\"brasil\")"
   ]
  }
 ],
 "metadata": {
  "kernelspec": {
   "display_name": "Python 3",
   "language": "python",
   "name": "python3"
  },
  "language_info": {
   "codemirror_mode": {
    "name": "ipython",
    "version": 3
   },
   "file_extension": ".py",
   "mimetype": "text/x-python",
   "name": "python",
   "nbconvert_exporter": "python",
   "pygments_lexer": "ipython3",
   "version": "3.6.5"
  }
 },
 "nbformat": 4,
 "nbformat_minor": 2
}
